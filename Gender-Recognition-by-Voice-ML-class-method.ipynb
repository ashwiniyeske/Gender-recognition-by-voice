{
 "cells": [
  {
   "cell_type": "code",
   "execution_count": 1,
   "id": "00a2c528",
   "metadata": {
    "_cell_guid": "b1076dfc-b9ad-4769-8c92-a6c4dae69d19",
    "_uuid": "8f2839f25d086af736a60e9eeb907d3b93b6e0e5",
    "execution": {
     "iopub.execute_input": "2023-09-09T16:25:25.139622Z",
     "iopub.status.busy": "2023-09-09T16:25:25.138803Z",
     "iopub.status.idle": "2023-09-09T16:25:25.542806Z",
     "shell.execute_reply": "2023-09-09T16:25:25.541741Z"
    },
    "papermill": {
     "duration": 0.423016,
     "end_time": "2023-09-09T16:25:25.545395",
     "exception": false,
     "start_time": "2023-09-09T16:25:25.122379",
     "status": "completed"
    },
    "tags": []
   },
   "outputs": [
    {
     "name": "stdout",
     "output_type": "stream",
     "text": [
      "/kaggle/input/voicegender/voice.csv\n"
     ]
    }
   ],
   "source": [
    "# This Python 3 environment comes with many helpful analytics libraries installed\n",
    "# It is defined by the kaggle/python Docker image: https://github.com/kaggle/docker-python\n",
    "# For example, here's several helpful packages to load\n",
    "\n",
    "import numpy as np # linear algebra\n",
    "import pandas as pd # data processing, CSV file I/O (e.g. pd.read_csv)\n",
    "\n",
    "# Input data files are available in the read-only \"../input/\" directory\n",
    "# For example, running this (by clicking run or pressing Shift+Enter) will list all files under the input directory\n",
    "\n",
    "import os\n",
    "for dirname, _, filenames in os.walk('/kaggle/input'):\n",
    "    for filename in filenames:\n",
    "        print(os.path.join(dirname, filename))\n",
    "\n",
    "# You can write up to 20GB to the current directory (/kaggle/working/) that gets preserved as output when you create a version using \"Save & Run All\" \n",
    "# You can also write temporary files to /kaggle/temp/, but they won't be saved outside of the current session"
   ]
  },
  {
   "cell_type": "code",
   "execution_count": 2,
   "id": "c4a8e4a6",
   "metadata": {
    "execution": {
     "iopub.execute_input": "2023-09-09T16:25:25.574573Z",
     "iopub.status.busy": "2023-09-09T16:25:25.574088Z",
     "iopub.status.idle": "2023-09-09T16:25:27.338503Z",
     "shell.execute_reply": "2023-09-09T16:25:27.337346Z"
    },
    "papermill": {
     "duration": 1.78163,
     "end_time": "2023-09-09T16:25:27.340967",
     "exception": false,
     "start_time": "2023-09-09T16:25:25.559337",
     "status": "completed"
    },
    "tags": []
   },
   "outputs": [
    {
     "name": "stdout",
     "output_type": "stream",
     "text": [
      "['voicegender']\n"
     ]
    }
   ],
   "source": [
    "import numpy as np\n",
    "import pandas as pd\n",
    "import matplotlib.pyplot as plt\n",
    "import seaborn as sns\n",
    "from sklearn.linear_model import LogisticRegression\n",
    "\n",
    "\n",
    "from sklearn.metrics import confusion_matrix\n",
    "\n",
    "import os\n",
    "print(os.listdir(\"../input\"))"
   ]
  },
  {
   "cell_type": "code",
   "execution_count": 3,
   "id": "07df12de",
   "metadata": {
    "execution": {
     "iopub.execute_input": "2023-09-09T16:25:27.369223Z",
     "iopub.status.busy": "2023-09-09T16:25:27.368852Z",
     "iopub.status.idle": "2023-09-09T16:25:27.415319Z",
     "shell.execute_reply": "2023-09-09T16:25:27.414228Z"
    },
    "papermill": {
     "duration": 0.063484,
     "end_time": "2023-09-09T16:25:27.417845",
     "exception": false,
     "start_time": "2023-09-09T16:25:27.354361",
     "status": "completed"
    },
    "tags": []
   },
   "outputs": [],
   "source": [
    "# read our data from dataset\n",
    "data = pd.read_csv(\"/kaggle/input/voicegender/voice.csv\")"
   ]
  },
  {
   "cell_type": "code",
   "execution_count": 4,
   "id": "f9753446",
   "metadata": {
    "execution": {
     "iopub.execute_input": "2023-09-09T16:25:27.447795Z",
     "iopub.status.busy": "2023-09-09T16:25:27.447042Z",
     "iopub.status.idle": "2023-09-09T16:25:27.486681Z",
     "shell.execute_reply": "2023-09-09T16:25:27.485782Z"
    },
    "papermill": {
     "duration": 0.057708,
     "end_time": "2023-09-09T16:25:27.489441",
     "exception": false,
     "start_time": "2023-09-09T16:25:27.431733",
     "status": "completed"
    },
    "tags": []
   },
   "outputs": [
    {
     "data": {
      "text/html": [
       "<div>\n",
       "<style scoped>\n",
       "    .dataframe tbody tr th:only-of-type {\n",
       "        vertical-align: middle;\n",
       "    }\n",
       "\n",
       "    .dataframe tbody tr th {\n",
       "        vertical-align: top;\n",
       "    }\n",
       "\n",
       "    .dataframe thead th {\n",
       "        text-align: right;\n",
       "    }\n",
       "</style>\n",
       "<table border=\"1\" class=\"dataframe\">\n",
       "  <thead>\n",
       "    <tr style=\"text-align: right;\">\n",
       "      <th></th>\n",
       "      <th>meanfreq</th>\n",
       "      <th>sd</th>\n",
       "      <th>median</th>\n",
       "      <th>Q25</th>\n",
       "      <th>Q75</th>\n",
       "      <th>IQR</th>\n",
       "      <th>skew</th>\n",
       "      <th>kurt</th>\n",
       "      <th>sp.ent</th>\n",
       "      <th>sfm</th>\n",
       "      <th>...</th>\n",
       "      <th>centroid</th>\n",
       "      <th>meanfun</th>\n",
       "      <th>minfun</th>\n",
       "      <th>maxfun</th>\n",
       "      <th>meandom</th>\n",
       "      <th>mindom</th>\n",
       "      <th>maxdom</th>\n",
       "      <th>dfrange</th>\n",
       "      <th>modindx</th>\n",
       "      <th>label</th>\n",
       "    </tr>\n",
       "  </thead>\n",
       "  <tbody>\n",
       "    <tr>\n",
       "      <th>0</th>\n",
       "      <td>0.059781</td>\n",
       "      <td>0.064241</td>\n",
       "      <td>0.032027</td>\n",
       "      <td>0.015071</td>\n",
       "      <td>0.090193</td>\n",
       "      <td>0.075122</td>\n",
       "      <td>12.863462</td>\n",
       "      <td>274.402906</td>\n",
       "      <td>0.893369</td>\n",
       "      <td>0.491918</td>\n",
       "      <td>...</td>\n",
       "      <td>0.059781</td>\n",
       "      <td>0.084279</td>\n",
       "      <td>0.015702</td>\n",
       "      <td>0.275862</td>\n",
       "      <td>0.007812</td>\n",
       "      <td>0.007812</td>\n",
       "      <td>0.007812</td>\n",
       "      <td>0.000000</td>\n",
       "      <td>0.000000</td>\n",
       "      <td>male</td>\n",
       "    </tr>\n",
       "    <tr>\n",
       "      <th>1</th>\n",
       "      <td>0.066009</td>\n",
       "      <td>0.067310</td>\n",
       "      <td>0.040229</td>\n",
       "      <td>0.019414</td>\n",
       "      <td>0.092666</td>\n",
       "      <td>0.073252</td>\n",
       "      <td>22.423285</td>\n",
       "      <td>634.613855</td>\n",
       "      <td>0.892193</td>\n",
       "      <td>0.513724</td>\n",
       "      <td>...</td>\n",
       "      <td>0.066009</td>\n",
       "      <td>0.107937</td>\n",
       "      <td>0.015826</td>\n",
       "      <td>0.250000</td>\n",
       "      <td>0.009014</td>\n",
       "      <td>0.007812</td>\n",
       "      <td>0.054688</td>\n",
       "      <td>0.046875</td>\n",
       "      <td>0.052632</td>\n",
       "      <td>male</td>\n",
       "    </tr>\n",
       "    <tr>\n",
       "      <th>2</th>\n",
       "      <td>0.077316</td>\n",
       "      <td>0.083829</td>\n",
       "      <td>0.036718</td>\n",
       "      <td>0.008701</td>\n",
       "      <td>0.131908</td>\n",
       "      <td>0.123207</td>\n",
       "      <td>30.757155</td>\n",
       "      <td>1024.927705</td>\n",
       "      <td>0.846389</td>\n",
       "      <td>0.478905</td>\n",
       "      <td>...</td>\n",
       "      <td>0.077316</td>\n",
       "      <td>0.098706</td>\n",
       "      <td>0.015656</td>\n",
       "      <td>0.271186</td>\n",
       "      <td>0.007990</td>\n",
       "      <td>0.007812</td>\n",
       "      <td>0.015625</td>\n",
       "      <td>0.007812</td>\n",
       "      <td>0.046512</td>\n",
       "      <td>male</td>\n",
       "    </tr>\n",
       "    <tr>\n",
       "      <th>3</th>\n",
       "      <td>0.151228</td>\n",
       "      <td>0.072111</td>\n",
       "      <td>0.158011</td>\n",
       "      <td>0.096582</td>\n",
       "      <td>0.207955</td>\n",
       "      <td>0.111374</td>\n",
       "      <td>1.232831</td>\n",
       "      <td>4.177296</td>\n",
       "      <td>0.963322</td>\n",
       "      <td>0.727232</td>\n",
       "      <td>...</td>\n",
       "      <td>0.151228</td>\n",
       "      <td>0.088965</td>\n",
       "      <td>0.017798</td>\n",
       "      <td>0.250000</td>\n",
       "      <td>0.201497</td>\n",
       "      <td>0.007812</td>\n",
       "      <td>0.562500</td>\n",
       "      <td>0.554688</td>\n",
       "      <td>0.247119</td>\n",
       "      <td>male</td>\n",
       "    </tr>\n",
       "    <tr>\n",
       "      <th>4</th>\n",
       "      <td>0.135120</td>\n",
       "      <td>0.079146</td>\n",
       "      <td>0.124656</td>\n",
       "      <td>0.078720</td>\n",
       "      <td>0.206045</td>\n",
       "      <td>0.127325</td>\n",
       "      <td>1.101174</td>\n",
       "      <td>4.333713</td>\n",
       "      <td>0.971955</td>\n",
       "      <td>0.783568</td>\n",
       "      <td>...</td>\n",
       "      <td>0.135120</td>\n",
       "      <td>0.106398</td>\n",
       "      <td>0.016931</td>\n",
       "      <td>0.266667</td>\n",
       "      <td>0.712812</td>\n",
       "      <td>0.007812</td>\n",
       "      <td>5.484375</td>\n",
       "      <td>5.476562</td>\n",
       "      <td>0.208274</td>\n",
       "      <td>male</td>\n",
       "    </tr>\n",
       "  </tbody>\n",
       "</table>\n",
       "<p>5 rows × 21 columns</p>\n",
       "</div>"
      ],
      "text/plain": [
       "   meanfreq        sd    median       Q25       Q75       IQR       skew  \\\n",
       "0  0.059781  0.064241  0.032027  0.015071  0.090193  0.075122  12.863462   \n",
       "1  0.066009  0.067310  0.040229  0.019414  0.092666  0.073252  22.423285   \n",
       "2  0.077316  0.083829  0.036718  0.008701  0.131908  0.123207  30.757155   \n",
       "3  0.151228  0.072111  0.158011  0.096582  0.207955  0.111374   1.232831   \n",
       "4  0.135120  0.079146  0.124656  0.078720  0.206045  0.127325   1.101174   \n",
       "\n",
       "          kurt    sp.ent       sfm  ...  centroid   meanfun    minfun  \\\n",
       "0   274.402906  0.893369  0.491918  ...  0.059781  0.084279  0.015702   \n",
       "1   634.613855  0.892193  0.513724  ...  0.066009  0.107937  0.015826   \n",
       "2  1024.927705  0.846389  0.478905  ...  0.077316  0.098706  0.015656   \n",
       "3     4.177296  0.963322  0.727232  ...  0.151228  0.088965  0.017798   \n",
       "4     4.333713  0.971955  0.783568  ...  0.135120  0.106398  0.016931   \n",
       "\n",
       "     maxfun   meandom    mindom    maxdom   dfrange   modindx  label  \n",
       "0  0.275862  0.007812  0.007812  0.007812  0.000000  0.000000   male  \n",
       "1  0.250000  0.009014  0.007812  0.054688  0.046875  0.052632   male  \n",
       "2  0.271186  0.007990  0.007812  0.015625  0.007812  0.046512   male  \n",
       "3  0.250000  0.201497  0.007812  0.562500  0.554688  0.247119   male  \n",
       "4  0.266667  0.712812  0.007812  5.484375  5.476562  0.208274   male  \n",
       "\n",
       "[5 rows x 21 columns]"
      ]
     },
     "execution_count": 4,
     "metadata": {},
     "output_type": "execute_result"
    }
   ],
   "source": [
    "#lets looking at top 5 datas\n",
    "data.head()"
   ]
  },
  {
   "cell_type": "code",
   "execution_count": 5,
   "id": "a5109b71",
   "metadata": {
    "execution": {
     "iopub.execute_input": "2023-09-09T16:25:27.518883Z",
     "iopub.status.busy": "2023-09-09T16:25:27.518255Z",
     "iopub.status.idle": "2023-09-09T16:25:27.544733Z",
     "shell.execute_reply": "2023-09-09T16:25:27.543936Z"
    },
    "papermill": {
     "duration": 0.04412,
     "end_time": "2023-09-09T16:25:27.547390",
     "exception": false,
     "start_time": "2023-09-09T16:25:27.503270",
     "status": "completed"
    },
    "tags": []
   },
   "outputs": [
    {
     "data": {
      "text/html": [
       "<div>\n",
       "<style scoped>\n",
       "    .dataframe tbody tr th:only-of-type {\n",
       "        vertical-align: middle;\n",
       "    }\n",
       "\n",
       "    .dataframe tbody tr th {\n",
       "        vertical-align: top;\n",
       "    }\n",
       "\n",
       "    .dataframe thead th {\n",
       "        text-align: right;\n",
       "    }\n",
       "</style>\n",
       "<table border=\"1\" class=\"dataframe\">\n",
       "  <thead>\n",
       "    <tr style=\"text-align: right;\">\n",
       "      <th></th>\n",
       "      <th>meanfreq</th>\n",
       "      <th>sd</th>\n",
       "      <th>median</th>\n",
       "      <th>Q25</th>\n",
       "      <th>Q75</th>\n",
       "      <th>IQR</th>\n",
       "      <th>skew</th>\n",
       "      <th>kurt</th>\n",
       "      <th>sp.ent</th>\n",
       "      <th>sfm</th>\n",
       "      <th>...</th>\n",
       "      <th>centroid</th>\n",
       "      <th>meanfun</th>\n",
       "      <th>minfun</th>\n",
       "      <th>maxfun</th>\n",
       "      <th>meandom</th>\n",
       "      <th>mindom</th>\n",
       "      <th>maxdom</th>\n",
       "      <th>dfrange</th>\n",
       "      <th>modindx</th>\n",
       "      <th>label</th>\n",
       "    </tr>\n",
       "  </thead>\n",
       "  <tbody>\n",
       "    <tr>\n",
       "      <th>3163</th>\n",
       "      <td>0.131884</td>\n",
       "      <td>0.084734</td>\n",
       "      <td>0.153707</td>\n",
       "      <td>0.049285</td>\n",
       "      <td>0.201144</td>\n",
       "      <td>0.151859</td>\n",
       "      <td>1.762129</td>\n",
       "      <td>6.630383</td>\n",
       "      <td>0.962934</td>\n",
       "      <td>0.763182</td>\n",
       "      <td>...</td>\n",
       "      <td>0.131884</td>\n",
       "      <td>0.182790</td>\n",
       "      <td>0.083770</td>\n",
       "      <td>0.262295</td>\n",
       "      <td>0.832899</td>\n",
       "      <td>0.007812</td>\n",
       "      <td>4.210938</td>\n",
       "      <td>4.203125</td>\n",
       "      <td>0.161929</td>\n",
       "      <td>female</td>\n",
       "    </tr>\n",
       "    <tr>\n",
       "      <th>3164</th>\n",
       "      <td>0.116221</td>\n",
       "      <td>0.089221</td>\n",
       "      <td>0.076758</td>\n",
       "      <td>0.042718</td>\n",
       "      <td>0.204911</td>\n",
       "      <td>0.162193</td>\n",
       "      <td>0.693730</td>\n",
       "      <td>2.503954</td>\n",
       "      <td>0.960716</td>\n",
       "      <td>0.709570</td>\n",
       "      <td>...</td>\n",
       "      <td>0.116221</td>\n",
       "      <td>0.188980</td>\n",
       "      <td>0.034409</td>\n",
       "      <td>0.275862</td>\n",
       "      <td>0.909856</td>\n",
       "      <td>0.039062</td>\n",
       "      <td>3.679688</td>\n",
       "      <td>3.640625</td>\n",
       "      <td>0.277897</td>\n",
       "      <td>female</td>\n",
       "    </tr>\n",
       "    <tr>\n",
       "      <th>3165</th>\n",
       "      <td>0.142056</td>\n",
       "      <td>0.095798</td>\n",
       "      <td>0.183731</td>\n",
       "      <td>0.033424</td>\n",
       "      <td>0.224360</td>\n",
       "      <td>0.190936</td>\n",
       "      <td>1.876502</td>\n",
       "      <td>6.604509</td>\n",
       "      <td>0.946854</td>\n",
       "      <td>0.654196</td>\n",
       "      <td>...</td>\n",
       "      <td>0.142056</td>\n",
       "      <td>0.209918</td>\n",
       "      <td>0.039506</td>\n",
       "      <td>0.275862</td>\n",
       "      <td>0.494271</td>\n",
       "      <td>0.007812</td>\n",
       "      <td>2.937500</td>\n",
       "      <td>2.929688</td>\n",
       "      <td>0.194759</td>\n",
       "      <td>female</td>\n",
       "    </tr>\n",
       "    <tr>\n",
       "      <th>3166</th>\n",
       "      <td>0.143659</td>\n",
       "      <td>0.090628</td>\n",
       "      <td>0.184976</td>\n",
       "      <td>0.043508</td>\n",
       "      <td>0.219943</td>\n",
       "      <td>0.176435</td>\n",
       "      <td>1.591065</td>\n",
       "      <td>5.388298</td>\n",
       "      <td>0.950436</td>\n",
       "      <td>0.675470</td>\n",
       "      <td>...</td>\n",
       "      <td>0.143659</td>\n",
       "      <td>0.172375</td>\n",
       "      <td>0.034483</td>\n",
       "      <td>0.250000</td>\n",
       "      <td>0.791360</td>\n",
       "      <td>0.007812</td>\n",
       "      <td>3.593750</td>\n",
       "      <td>3.585938</td>\n",
       "      <td>0.311002</td>\n",
       "      <td>female</td>\n",
       "    </tr>\n",
       "    <tr>\n",
       "      <th>3167</th>\n",
       "      <td>0.165509</td>\n",
       "      <td>0.092884</td>\n",
       "      <td>0.183044</td>\n",
       "      <td>0.070072</td>\n",
       "      <td>0.250827</td>\n",
       "      <td>0.180756</td>\n",
       "      <td>1.705029</td>\n",
       "      <td>5.769115</td>\n",
       "      <td>0.938829</td>\n",
       "      <td>0.601529</td>\n",
       "      <td>...</td>\n",
       "      <td>0.165509</td>\n",
       "      <td>0.185607</td>\n",
       "      <td>0.062257</td>\n",
       "      <td>0.271186</td>\n",
       "      <td>0.227022</td>\n",
       "      <td>0.007812</td>\n",
       "      <td>0.554688</td>\n",
       "      <td>0.546875</td>\n",
       "      <td>0.350000</td>\n",
       "      <td>female</td>\n",
       "    </tr>\n",
       "  </tbody>\n",
       "</table>\n",
       "<p>5 rows × 21 columns</p>\n",
       "</div>"
      ],
      "text/plain": [
       "      meanfreq        sd    median       Q25       Q75       IQR      skew  \\\n",
       "3163  0.131884  0.084734  0.153707  0.049285  0.201144  0.151859  1.762129   \n",
       "3164  0.116221  0.089221  0.076758  0.042718  0.204911  0.162193  0.693730   \n",
       "3165  0.142056  0.095798  0.183731  0.033424  0.224360  0.190936  1.876502   \n",
       "3166  0.143659  0.090628  0.184976  0.043508  0.219943  0.176435  1.591065   \n",
       "3167  0.165509  0.092884  0.183044  0.070072  0.250827  0.180756  1.705029   \n",
       "\n",
       "          kurt    sp.ent       sfm  ...  centroid   meanfun    minfun  \\\n",
       "3163  6.630383  0.962934  0.763182  ...  0.131884  0.182790  0.083770   \n",
       "3164  2.503954  0.960716  0.709570  ...  0.116221  0.188980  0.034409   \n",
       "3165  6.604509  0.946854  0.654196  ...  0.142056  0.209918  0.039506   \n",
       "3166  5.388298  0.950436  0.675470  ...  0.143659  0.172375  0.034483   \n",
       "3167  5.769115  0.938829  0.601529  ...  0.165509  0.185607  0.062257   \n",
       "\n",
       "        maxfun   meandom    mindom    maxdom   dfrange   modindx   label  \n",
       "3163  0.262295  0.832899  0.007812  4.210938  4.203125  0.161929  female  \n",
       "3164  0.275862  0.909856  0.039062  3.679688  3.640625  0.277897  female  \n",
       "3165  0.275862  0.494271  0.007812  2.937500  2.929688  0.194759  female  \n",
       "3166  0.250000  0.791360  0.007812  3.593750  3.585938  0.311002  female  \n",
       "3167  0.271186  0.227022  0.007812  0.554688  0.546875  0.350000  female  \n",
       "\n",
       "[5 rows x 21 columns]"
      ]
     },
     "execution_count": 5,
     "metadata": {},
     "output_type": "execute_result"
    }
   ],
   "source": [
    "data.tail()"
   ]
  },
  {
   "cell_type": "code",
   "execution_count": 6,
   "id": "a47a34bf",
   "metadata": {
    "execution": {
     "iopub.execute_input": "2023-09-09T16:25:27.578717Z",
     "iopub.status.busy": "2023-09-09T16:25:27.578100Z",
     "iopub.status.idle": "2023-09-09T16:25:27.651582Z",
     "shell.execute_reply": "2023-09-09T16:25:27.650595Z"
    },
    "papermill": {
     "duration": 0.091915,
     "end_time": "2023-09-09T16:25:27.653858",
     "exception": false,
     "start_time": "2023-09-09T16:25:27.561943",
     "status": "completed"
    },
    "tags": []
   },
   "outputs": [
    {
     "data": {
      "text/html": [
       "<div>\n",
       "<style scoped>\n",
       "    .dataframe tbody tr th:only-of-type {\n",
       "        vertical-align: middle;\n",
       "    }\n",
       "\n",
       "    .dataframe tbody tr th {\n",
       "        vertical-align: top;\n",
       "    }\n",
       "\n",
       "    .dataframe thead th {\n",
       "        text-align: right;\n",
       "    }\n",
       "</style>\n",
       "<table border=\"1\" class=\"dataframe\">\n",
       "  <thead>\n",
       "    <tr style=\"text-align: right;\">\n",
       "      <th></th>\n",
       "      <th>meanfreq</th>\n",
       "      <th>sd</th>\n",
       "      <th>median</th>\n",
       "      <th>Q25</th>\n",
       "      <th>Q75</th>\n",
       "      <th>IQR</th>\n",
       "      <th>skew</th>\n",
       "      <th>kurt</th>\n",
       "      <th>sp.ent</th>\n",
       "      <th>sfm</th>\n",
       "      <th>mode</th>\n",
       "      <th>centroid</th>\n",
       "      <th>meanfun</th>\n",
       "      <th>minfun</th>\n",
       "      <th>maxfun</th>\n",
       "      <th>meandom</th>\n",
       "      <th>mindom</th>\n",
       "      <th>maxdom</th>\n",
       "      <th>dfrange</th>\n",
       "      <th>modindx</th>\n",
       "    </tr>\n",
       "  </thead>\n",
       "  <tbody>\n",
       "    <tr>\n",
       "      <th>count</th>\n",
       "      <td>3168.000000</td>\n",
       "      <td>3168.000000</td>\n",
       "      <td>3168.000000</td>\n",
       "      <td>3168.000000</td>\n",
       "      <td>3168.000000</td>\n",
       "      <td>3168.000000</td>\n",
       "      <td>3168.000000</td>\n",
       "      <td>3168.000000</td>\n",
       "      <td>3168.000000</td>\n",
       "      <td>3168.000000</td>\n",
       "      <td>3168.000000</td>\n",
       "      <td>3168.000000</td>\n",
       "      <td>3168.000000</td>\n",
       "      <td>3168.000000</td>\n",
       "      <td>3168.000000</td>\n",
       "      <td>3168.000000</td>\n",
       "      <td>3168.000000</td>\n",
       "      <td>3168.000000</td>\n",
       "      <td>3168.000000</td>\n",
       "      <td>3168.000000</td>\n",
       "    </tr>\n",
       "    <tr>\n",
       "      <th>mean</th>\n",
       "      <td>0.180907</td>\n",
       "      <td>0.057126</td>\n",
       "      <td>0.185621</td>\n",
       "      <td>0.140456</td>\n",
       "      <td>0.224765</td>\n",
       "      <td>0.084309</td>\n",
       "      <td>3.140168</td>\n",
       "      <td>36.568461</td>\n",
       "      <td>0.895127</td>\n",
       "      <td>0.408216</td>\n",
       "      <td>0.165282</td>\n",
       "      <td>0.180907</td>\n",
       "      <td>0.142807</td>\n",
       "      <td>0.036802</td>\n",
       "      <td>0.258842</td>\n",
       "      <td>0.829211</td>\n",
       "      <td>0.052647</td>\n",
       "      <td>5.047277</td>\n",
       "      <td>4.994630</td>\n",
       "      <td>0.173752</td>\n",
       "    </tr>\n",
       "    <tr>\n",
       "      <th>std</th>\n",
       "      <td>0.029918</td>\n",
       "      <td>0.016652</td>\n",
       "      <td>0.036360</td>\n",
       "      <td>0.048680</td>\n",
       "      <td>0.023639</td>\n",
       "      <td>0.042783</td>\n",
       "      <td>4.240529</td>\n",
       "      <td>134.928661</td>\n",
       "      <td>0.044980</td>\n",
       "      <td>0.177521</td>\n",
       "      <td>0.077203</td>\n",
       "      <td>0.029918</td>\n",
       "      <td>0.032304</td>\n",
       "      <td>0.019220</td>\n",
       "      <td>0.030077</td>\n",
       "      <td>0.525205</td>\n",
       "      <td>0.063299</td>\n",
       "      <td>3.521157</td>\n",
       "      <td>3.520039</td>\n",
       "      <td>0.119454</td>\n",
       "    </tr>\n",
       "    <tr>\n",
       "      <th>min</th>\n",
       "      <td>0.039363</td>\n",
       "      <td>0.018363</td>\n",
       "      <td>0.010975</td>\n",
       "      <td>0.000229</td>\n",
       "      <td>0.042946</td>\n",
       "      <td>0.014558</td>\n",
       "      <td>0.141735</td>\n",
       "      <td>2.068455</td>\n",
       "      <td>0.738651</td>\n",
       "      <td>0.036876</td>\n",
       "      <td>0.000000</td>\n",
       "      <td>0.039363</td>\n",
       "      <td>0.055565</td>\n",
       "      <td>0.009775</td>\n",
       "      <td>0.103093</td>\n",
       "      <td>0.007812</td>\n",
       "      <td>0.004883</td>\n",
       "      <td>0.007812</td>\n",
       "      <td>0.000000</td>\n",
       "      <td>0.000000</td>\n",
       "    </tr>\n",
       "    <tr>\n",
       "      <th>25%</th>\n",
       "      <td>0.163662</td>\n",
       "      <td>0.041954</td>\n",
       "      <td>0.169593</td>\n",
       "      <td>0.111087</td>\n",
       "      <td>0.208747</td>\n",
       "      <td>0.042560</td>\n",
       "      <td>1.649569</td>\n",
       "      <td>5.669547</td>\n",
       "      <td>0.861811</td>\n",
       "      <td>0.258041</td>\n",
       "      <td>0.118016</td>\n",
       "      <td>0.163662</td>\n",
       "      <td>0.116998</td>\n",
       "      <td>0.018223</td>\n",
       "      <td>0.253968</td>\n",
       "      <td>0.419828</td>\n",
       "      <td>0.007812</td>\n",
       "      <td>2.070312</td>\n",
       "      <td>2.044922</td>\n",
       "      <td>0.099766</td>\n",
       "    </tr>\n",
       "    <tr>\n",
       "      <th>50%</th>\n",
       "      <td>0.184838</td>\n",
       "      <td>0.059155</td>\n",
       "      <td>0.190032</td>\n",
       "      <td>0.140286</td>\n",
       "      <td>0.225684</td>\n",
       "      <td>0.094280</td>\n",
       "      <td>2.197101</td>\n",
       "      <td>8.318463</td>\n",
       "      <td>0.901767</td>\n",
       "      <td>0.396335</td>\n",
       "      <td>0.186599</td>\n",
       "      <td>0.184838</td>\n",
       "      <td>0.140519</td>\n",
       "      <td>0.046110</td>\n",
       "      <td>0.271186</td>\n",
       "      <td>0.765795</td>\n",
       "      <td>0.023438</td>\n",
       "      <td>4.992188</td>\n",
       "      <td>4.945312</td>\n",
       "      <td>0.139357</td>\n",
       "    </tr>\n",
       "    <tr>\n",
       "      <th>75%</th>\n",
       "      <td>0.199146</td>\n",
       "      <td>0.067020</td>\n",
       "      <td>0.210618</td>\n",
       "      <td>0.175939</td>\n",
       "      <td>0.243660</td>\n",
       "      <td>0.114175</td>\n",
       "      <td>2.931694</td>\n",
       "      <td>13.648905</td>\n",
       "      <td>0.928713</td>\n",
       "      <td>0.533676</td>\n",
       "      <td>0.221104</td>\n",
       "      <td>0.199146</td>\n",
       "      <td>0.169581</td>\n",
       "      <td>0.047904</td>\n",
       "      <td>0.277457</td>\n",
       "      <td>1.177166</td>\n",
       "      <td>0.070312</td>\n",
       "      <td>7.007812</td>\n",
       "      <td>6.992188</td>\n",
       "      <td>0.209183</td>\n",
       "    </tr>\n",
       "    <tr>\n",
       "      <th>max</th>\n",
       "      <td>0.251124</td>\n",
       "      <td>0.115273</td>\n",
       "      <td>0.261224</td>\n",
       "      <td>0.247347</td>\n",
       "      <td>0.273469</td>\n",
       "      <td>0.252225</td>\n",
       "      <td>34.725453</td>\n",
       "      <td>1309.612887</td>\n",
       "      <td>0.981997</td>\n",
       "      <td>0.842936</td>\n",
       "      <td>0.280000</td>\n",
       "      <td>0.251124</td>\n",
       "      <td>0.237636</td>\n",
       "      <td>0.204082</td>\n",
       "      <td>0.279114</td>\n",
       "      <td>2.957682</td>\n",
       "      <td>0.458984</td>\n",
       "      <td>21.867188</td>\n",
       "      <td>21.843750</td>\n",
       "      <td>0.932374</td>\n",
       "    </tr>\n",
       "  </tbody>\n",
       "</table>\n",
       "</div>"
      ],
      "text/plain": [
       "          meanfreq           sd       median          Q25          Q75  \\\n",
       "count  3168.000000  3168.000000  3168.000000  3168.000000  3168.000000   \n",
       "mean      0.180907     0.057126     0.185621     0.140456     0.224765   \n",
       "std       0.029918     0.016652     0.036360     0.048680     0.023639   \n",
       "min       0.039363     0.018363     0.010975     0.000229     0.042946   \n",
       "25%       0.163662     0.041954     0.169593     0.111087     0.208747   \n",
       "50%       0.184838     0.059155     0.190032     0.140286     0.225684   \n",
       "75%       0.199146     0.067020     0.210618     0.175939     0.243660   \n",
       "max       0.251124     0.115273     0.261224     0.247347     0.273469   \n",
       "\n",
       "               IQR         skew         kurt       sp.ent          sfm  \\\n",
       "count  3168.000000  3168.000000  3168.000000  3168.000000  3168.000000   \n",
       "mean      0.084309     3.140168    36.568461     0.895127     0.408216   \n",
       "std       0.042783     4.240529   134.928661     0.044980     0.177521   \n",
       "min       0.014558     0.141735     2.068455     0.738651     0.036876   \n",
       "25%       0.042560     1.649569     5.669547     0.861811     0.258041   \n",
       "50%       0.094280     2.197101     8.318463     0.901767     0.396335   \n",
       "75%       0.114175     2.931694    13.648905     0.928713     0.533676   \n",
       "max       0.252225    34.725453  1309.612887     0.981997     0.842936   \n",
       "\n",
       "              mode     centroid      meanfun       minfun       maxfun  \\\n",
       "count  3168.000000  3168.000000  3168.000000  3168.000000  3168.000000   \n",
       "mean      0.165282     0.180907     0.142807     0.036802     0.258842   \n",
       "std       0.077203     0.029918     0.032304     0.019220     0.030077   \n",
       "min       0.000000     0.039363     0.055565     0.009775     0.103093   \n",
       "25%       0.118016     0.163662     0.116998     0.018223     0.253968   \n",
       "50%       0.186599     0.184838     0.140519     0.046110     0.271186   \n",
       "75%       0.221104     0.199146     0.169581     0.047904     0.277457   \n",
       "max       0.280000     0.251124     0.237636     0.204082     0.279114   \n",
       "\n",
       "           meandom       mindom       maxdom      dfrange      modindx  \n",
       "count  3168.000000  3168.000000  3168.000000  3168.000000  3168.000000  \n",
       "mean      0.829211     0.052647     5.047277     4.994630     0.173752  \n",
       "std       0.525205     0.063299     3.521157     3.520039     0.119454  \n",
       "min       0.007812     0.004883     0.007812     0.000000     0.000000  \n",
       "25%       0.419828     0.007812     2.070312     2.044922     0.099766  \n",
       "50%       0.765795     0.023438     4.992188     4.945312     0.139357  \n",
       "75%       1.177166     0.070312     7.007812     6.992188     0.209183  \n",
       "max       2.957682     0.458984    21.867188    21.843750     0.932374  "
      ]
     },
     "execution_count": 6,
     "metadata": {},
     "output_type": "execute_result"
    }
   ],
   "source": [
    "data.describe()"
   ]
  },
  {
   "cell_type": "code",
   "execution_count": 7,
   "id": "961c5c7a",
   "metadata": {
    "execution": {
     "iopub.execute_input": "2023-09-09T16:25:27.686122Z",
     "iopub.status.busy": "2023-09-09T16:25:27.685591Z",
     "iopub.status.idle": "2023-09-09T16:25:27.710768Z",
     "shell.execute_reply": "2023-09-09T16:25:27.709503Z"
    },
    "papermill": {
     "duration": 0.044224,
     "end_time": "2023-09-09T16:25:27.713322",
     "exception": false,
     "start_time": "2023-09-09T16:25:27.669098",
     "status": "completed"
    },
    "tags": []
   },
   "outputs": [
    {
     "name": "stdout",
     "output_type": "stream",
     "text": [
      "<class 'pandas.core.frame.DataFrame'>\n",
      "RangeIndex: 3168 entries, 0 to 3167\n",
      "Data columns (total 21 columns):\n",
      " #   Column    Non-Null Count  Dtype  \n",
      "---  ------    --------------  -----  \n",
      " 0   meanfreq  3168 non-null   float64\n",
      " 1   sd        3168 non-null   float64\n",
      " 2   median    3168 non-null   float64\n",
      " 3   Q25       3168 non-null   float64\n",
      " 4   Q75       3168 non-null   float64\n",
      " 5   IQR       3168 non-null   float64\n",
      " 6   skew      3168 non-null   float64\n",
      " 7   kurt      3168 non-null   float64\n",
      " 8   sp.ent    3168 non-null   float64\n",
      " 9   sfm       3168 non-null   float64\n",
      " 10  mode      3168 non-null   float64\n",
      " 11  centroid  3168 non-null   float64\n",
      " 12  meanfun   3168 non-null   float64\n",
      " 13  minfun    3168 non-null   float64\n",
      " 14  maxfun    3168 non-null   float64\n",
      " 15  meandom   3168 non-null   float64\n",
      " 16  mindom    3168 non-null   float64\n",
      " 17  maxdom    3168 non-null   float64\n",
      " 18  dfrange   3168 non-null   float64\n",
      " 19  modindx   3168 non-null   float64\n",
      " 20  label     3168 non-null   object \n",
      "dtypes: float64(20), object(1)\n",
      "memory usage: 519.9+ KB\n"
     ]
    }
   ],
   "source": [
    "data.info()"
   ]
  },
  {
   "cell_type": "code",
   "execution_count": 8,
   "id": "23c78a3f",
   "metadata": {
    "execution": {
     "iopub.execute_input": "2023-09-09T16:25:27.745995Z",
     "iopub.status.busy": "2023-09-09T16:25:27.745191Z",
     "iopub.status.idle": "2023-09-09T16:25:27.752542Z",
     "shell.execute_reply": "2023-09-09T16:25:27.751442Z"
    },
    "papermill": {
     "duration": 0.025697,
     "end_time": "2023-09-09T16:25:27.754651",
     "exception": false,
     "start_time": "2023-09-09T16:25:27.728954",
     "status": "completed"
    },
    "tags": []
   },
   "outputs": [],
   "source": [
    "X = data.drop('label',axis=1)"
   ]
  },
  {
   "cell_type": "code",
   "execution_count": 9,
   "id": "04d8a961",
   "metadata": {
    "execution": {
     "iopub.execute_input": "2023-09-09T16:25:27.786746Z",
     "iopub.status.busy": "2023-09-09T16:25:27.786344Z",
     "iopub.status.idle": "2023-09-09T16:25:27.829663Z",
     "shell.execute_reply": "2023-09-09T16:25:27.828527Z"
    },
    "papermill": {
     "duration": 0.061808,
     "end_time": "2023-09-09T16:25:27.832036",
     "exception": false,
     "start_time": "2023-09-09T16:25:27.770228",
     "status": "completed"
    },
    "tags": []
   },
   "outputs": [
    {
     "data": {
      "text/html": [
       "<div>\n",
       "<style scoped>\n",
       "    .dataframe tbody tr th:only-of-type {\n",
       "        vertical-align: middle;\n",
       "    }\n",
       "\n",
       "    .dataframe tbody tr th {\n",
       "        vertical-align: top;\n",
       "    }\n",
       "\n",
       "    .dataframe thead th {\n",
       "        text-align: right;\n",
       "    }\n",
       "</style>\n",
       "<table border=\"1\" class=\"dataframe\">\n",
       "  <thead>\n",
       "    <tr style=\"text-align: right;\">\n",
       "      <th></th>\n",
       "      <th>meanfreq</th>\n",
       "      <th>sd</th>\n",
       "      <th>median</th>\n",
       "      <th>Q25</th>\n",
       "      <th>Q75</th>\n",
       "      <th>IQR</th>\n",
       "      <th>skew</th>\n",
       "      <th>kurt</th>\n",
       "      <th>sp.ent</th>\n",
       "      <th>sfm</th>\n",
       "      <th>mode</th>\n",
       "      <th>centroid</th>\n",
       "      <th>meanfun</th>\n",
       "      <th>minfun</th>\n",
       "      <th>maxfun</th>\n",
       "      <th>meandom</th>\n",
       "      <th>mindom</th>\n",
       "      <th>maxdom</th>\n",
       "      <th>dfrange</th>\n",
       "      <th>modindx</th>\n",
       "    </tr>\n",
       "  </thead>\n",
       "  <tbody>\n",
       "    <tr>\n",
       "      <th>meanfreq</th>\n",
       "      <td>1.000000</td>\n",
       "      <td>-0.739039</td>\n",
       "      <td>0.925445</td>\n",
       "      <td>0.911416</td>\n",
       "      <td>0.740997</td>\n",
       "      <td>-0.627605</td>\n",
       "      <td>-0.322327</td>\n",
       "      <td>-0.316036</td>\n",
       "      <td>-0.601203</td>\n",
       "      <td>-0.784332</td>\n",
       "      <td>0.687715</td>\n",
       "      <td>1.000000</td>\n",
       "      <td>0.460844</td>\n",
       "      <td>0.383937</td>\n",
       "      <td>0.274004</td>\n",
       "      <td>0.536666</td>\n",
       "      <td>0.229261</td>\n",
       "      <td>0.519528</td>\n",
       "      <td>0.515570</td>\n",
       "      <td>-0.216979</td>\n",
       "    </tr>\n",
       "    <tr>\n",
       "      <th>sd</th>\n",
       "      <td>-0.739039</td>\n",
       "      <td>1.000000</td>\n",
       "      <td>-0.562603</td>\n",
       "      <td>-0.846931</td>\n",
       "      <td>-0.161076</td>\n",
       "      <td>0.874660</td>\n",
       "      <td>0.314597</td>\n",
       "      <td>0.346241</td>\n",
       "      <td>0.716620</td>\n",
       "      <td>0.838086</td>\n",
       "      <td>-0.529150</td>\n",
       "      <td>-0.739039</td>\n",
       "      <td>-0.466281</td>\n",
       "      <td>-0.345609</td>\n",
       "      <td>-0.129662</td>\n",
       "      <td>-0.482726</td>\n",
       "      <td>-0.357667</td>\n",
       "      <td>-0.482278</td>\n",
       "      <td>-0.475999</td>\n",
       "      <td>0.122660</td>\n",
       "    </tr>\n",
       "    <tr>\n",
       "      <th>median</th>\n",
       "      <td>0.925445</td>\n",
       "      <td>-0.562603</td>\n",
       "      <td>1.000000</td>\n",
       "      <td>0.774922</td>\n",
       "      <td>0.731849</td>\n",
       "      <td>-0.477352</td>\n",
       "      <td>-0.257407</td>\n",
       "      <td>-0.243382</td>\n",
       "      <td>-0.502005</td>\n",
       "      <td>-0.661690</td>\n",
       "      <td>0.677433</td>\n",
       "      <td>0.925445</td>\n",
       "      <td>0.414909</td>\n",
       "      <td>0.337602</td>\n",
       "      <td>0.251328</td>\n",
       "      <td>0.455943</td>\n",
       "      <td>0.191169</td>\n",
       "      <td>0.438919</td>\n",
       "      <td>0.435621</td>\n",
       "      <td>-0.213298</td>\n",
       "    </tr>\n",
       "    <tr>\n",
       "      <th>Q25</th>\n",
       "      <td>0.911416</td>\n",
       "      <td>-0.846931</td>\n",
       "      <td>0.774922</td>\n",
       "      <td>1.000000</td>\n",
       "      <td>0.477140</td>\n",
       "      <td>-0.874189</td>\n",
       "      <td>-0.319475</td>\n",
       "      <td>-0.350182</td>\n",
       "      <td>-0.648126</td>\n",
       "      <td>-0.766875</td>\n",
       "      <td>0.591277</td>\n",
       "      <td>0.911416</td>\n",
       "      <td>0.545035</td>\n",
       "      <td>0.320994</td>\n",
       "      <td>0.199841</td>\n",
       "      <td>0.467403</td>\n",
       "      <td>0.302255</td>\n",
       "      <td>0.459683</td>\n",
       "      <td>0.454394</td>\n",
       "      <td>-0.141377</td>\n",
       "    </tr>\n",
       "    <tr>\n",
       "      <th>Q75</th>\n",
       "      <td>0.740997</td>\n",
       "      <td>-0.161076</td>\n",
       "      <td>0.731849</td>\n",
       "      <td>0.477140</td>\n",
       "      <td>1.000000</td>\n",
       "      <td>0.009636</td>\n",
       "      <td>-0.206339</td>\n",
       "      <td>-0.148881</td>\n",
       "      <td>-0.174905</td>\n",
       "      <td>-0.378198</td>\n",
       "      <td>0.486857</td>\n",
       "      <td>0.740997</td>\n",
       "      <td>0.155091</td>\n",
       "      <td>0.258002</td>\n",
       "      <td>0.285584</td>\n",
       "      <td>0.359181</td>\n",
       "      <td>-0.023750</td>\n",
       "      <td>0.335114</td>\n",
       "      <td>0.335648</td>\n",
       "      <td>-0.216475</td>\n",
       "    </tr>\n",
       "    <tr>\n",
       "      <th>IQR</th>\n",
       "      <td>-0.627605</td>\n",
       "      <td>0.874660</td>\n",
       "      <td>-0.477352</td>\n",
       "      <td>-0.874189</td>\n",
       "      <td>0.009636</td>\n",
       "      <td>1.000000</td>\n",
       "      <td>0.249497</td>\n",
       "      <td>0.316185</td>\n",
       "      <td>0.640813</td>\n",
       "      <td>0.663601</td>\n",
       "      <td>-0.403764</td>\n",
       "      <td>-0.627605</td>\n",
       "      <td>-0.534462</td>\n",
       "      <td>-0.222680</td>\n",
       "      <td>-0.069588</td>\n",
       "      <td>-0.333362</td>\n",
       "      <td>-0.357037</td>\n",
       "      <td>-0.337877</td>\n",
       "      <td>-0.331563</td>\n",
       "      <td>0.041252</td>\n",
       "    </tr>\n",
       "    <tr>\n",
       "      <th>skew</th>\n",
       "      <td>-0.322327</td>\n",
       "      <td>0.314597</td>\n",
       "      <td>-0.257407</td>\n",
       "      <td>-0.319475</td>\n",
       "      <td>-0.206339</td>\n",
       "      <td>0.249497</td>\n",
       "      <td>1.000000</td>\n",
       "      <td>0.977020</td>\n",
       "      <td>-0.195459</td>\n",
       "      <td>0.079694</td>\n",
       "      <td>-0.434859</td>\n",
       "      <td>-0.322327</td>\n",
       "      <td>-0.167668</td>\n",
       "      <td>-0.216954</td>\n",
       "      <td>-0.080861</td>\n",
       "      <td>-0.336848</td>\n",
       "      <td>-0.061608</td>\n",
       "      <td>-0.305651</td>\n",
       "      <td>-0.304640</td>\n",
       "      <td>-0.169325</td>\n",
       "    </tr>\n",
       "    <tr>\n",
       "      <th>kurt</th>\n",
       "      <td>-0.316036</td>\n",
       "      <td>0.346241</td>\n",
       "      <td>-0.243382</td>\n",
       "      <td>-0.350182</td>\n",
       "      <td>-0.148881</td>\n",
       "      <td>0.316185</td>\n",
       "      <td>0.977020</td>\n",
       "      <td>1.000000</td>\n",
       "      <td>-0.127644</td>\n",
       "      <td>0.109884</td>\n",
       "      <td>-0.406722</td>\n",
       "      <td>-0.316036</td>\n",
       "      <td>-0.194560</td>\n",
       "      <td>-0.203201</td>\n",
       "      <td>-0.045667</td>\n",
       "      <td>-0.303234</td>\n",
       "      <td>-0.103313</td>\n",
       "      <td>-0.274500</td>\n",
       "      <td>-0.272729</td>\n",
       "      <td>-0.205539</td>\n",
       "    </tr>\n",
       "    <tr>\n",
       "      <th>sp.ent</th>\n",
       "      <td>-0.601203</td>\n",
       "      <td>0.716620</td>\n",
       "      <td>-0.502005</td>\n",
       "      <td>-0.648126</td>\n",
       "      <td>-0.174905</td>\n",
       "      <td>0.640813</td>\n",
       "      <td>-0.195459</td>\n",
       "      <td>-0.127644</td>\n",
       "      <td>1.000000</td>\n",
       "      <td>0.866411</td>\n",
       "      <td>-0.325298</td>\n",
       "      <td>-0.601203</td>\n",
       "      <td>-0.513194</td>\n",
       "      <td>-0.305826</td>\n",
       "      <td>-0.120738</td>\n",
       "      <td>-0.293562</td>\n",
       "      <td>-0.294869</td>\n",
       "      <td>-0.324253</td>\n",
       "      <td>-0.319054</td>\n",
       "      <td>0.198074</td>\n",
       "    </tr>\n",
       "    <tr>\n",
       "      <th>sfm</th>\n",
       "      <td>-0.784332</td>\n",
       "      <td>0.838086</td>\n",
       "      <td>-0.661690</td>\n",
       "      <td>-0.766875</td>\n",
       "      <td>-0.378198</td>\n",
       "      <td>0.663601</td>\n",
       "      <td>0.079694</td>\n",
       "      <td>0.109884</td>\n",
       "      <td>0.866411</td>\n",
       "      <td>1.000000</td>\n",
       "      <td>-0.485913</td>\n",
       "      <td>-0.784332</td>\n",
       "      <td>-0.421066</td>\n",
       "      <td>-0.362100</td>\n",
       "      <td>-0.192369</td>\n",
       "      <td>-0.428442</td>\n",
       "      <td>-0.289593</td>\n",
       "      <td>-0.436649</td>\n",
       "      <td>-0.431580</td>\n",
       "      <td>0.211477</td>\n",
       "    </tr>\n",
       "    <tr>\n",
       "      <th>mode</th>\n",
       "      <td>0.687715</td>\n",
       "      <td>-0.529150</td>\n",
       "      <td>0.677433</td>\n",
       "      <td>0.591277</td>\n",
       "      <td>0.486857</td>\n",
       "      <td>-0.403764</td>\n",
       "      <td>-0.434859</td>\n",
       "      <td>-0.406722</td>\n",
       "      <td>-0.325298</td>\n",
       "      <td>-0.485913</td>\n",
       "      <td>1.000000</td>\n",
       "      <td>0.687715</td>\n",
       "      <td>0.324771</td>\n",
       "      <td>0.385467</td>\n",
       "      <td>0.172329</td>\n",
       "      <td>0.491479</td>\n",
       "      <td>0.198150</td>\n",
       "      <td>0.477187</td>\n",
       "      <td>0.473775</td>\n",
       "      <td>-0.182344</td>\n",
       "    </tr>\n",
       "    <tr>\n",
       "      <th>centroid</th>\n",
       "      <td>1.000000</td>\n",
       "      <td>-0.739039</td>\n",
       "      <td>0.925445</td>\n",
       "      <td>0.911416</td>\n",
       "      <td>0.740997</td>\n",
       "      <td>-0.627605</td>\n",
       "      <td>-0.322327</td>\n",
       "      <td>-0.316036</td>\n",
       "      <td>-0.601203</td>\n",
       "      <td>-0.784332</td>\n",
       "      <td>0.687715</td>\n",
       "      <td>1.000000</td>\n",
       "      <td>0.460844</td>\n",
       "      <td>0.383937</td>\n",
       "      <td>0.274004</td>\n",
       "      <td>0.536666</td>\n",
       "      <td>0.229261</td>\n",
       "      <td>0.519528</td>\n",
       "      <td>0.515570</td>\n",
       "      <td>-0.216979</td>\n",
       "    </tr>\n",
       "    <tr>\n",
       "      <th>meanfun</th>\n",
       "      <td>0.460844</td>\n",
       "      <td>-0.466281</td>\n",
       "      <td>0.414909</td>\n",
       "      <td>0.545035</td>\n",
       "      <td>0.155091</td>\n",
       "      <td>-0.534462</td>\n",
       "      <td>-0.167668</td>\n",
       "      <td>-0.194560</td>\n",
       "      <td>-0.513194</td>\n",
       "      <td>-0.421066</td>\n",
       "      <td>0.324771</td>\n",
       "      <td>0.460844</td>\n",
       "      <td>1.000000</td>\n",
       "      <td>0.339387</td>\n",
       "      <td>0.311950</td>\n",
       "      <td>0.270840</td>\n",
       "      <td>0.162163</td>\n",
       "      <td>0.277982</td>\n",
       "      <td>0.275154</td>\n",
       "      <td>-0.054858</td>\n",
       "    </tr>\n",
       "    <tr>\n",
       "      <th>minfun</th>\n",
       "      <td>0.383937</td>\n",
       "      <td>-0.345609</td>\n",
       "      <td>0.337602</td>\n",
       "      <td>0.320994</td>\n",
       "      <td>0.258002</td>\n",
       "      <td>-0.222680</td>\n",
       "      <td>-0.216954</td>\n",
       "      <td>-0.203201</td>\n",
       "      <td>-0.305826</td>\n",
       "      <td>-0.362100</td>\n",
       "      <td>0.385467</td>\n",
       "      <td>0.383937</td>\n",
       "      <td>0.339387</td>\n",
       "      <td>1.000000</td>\n",
       "      <td>0.213987</td>\n",
       "      <td>0.375979</td>\n",
       "      <td>0.082015</td>\n",
       "      <td>0.317860</td>\n",
       "      <td>0.316486</td>\n",
       "      <td>0.002042</td>\n",
       "    </tr>\n",
       "    <tr>\n",
       "      <th>maxfun</th>\n",
       "      <td>0.274004</td>\n",
       "      <td>-0.129662</td>\n",
       "      <td>0.251328</td>\n",
       "      <td>0.199841</td>\n",
       "      <td>0.285584</td>\n",
       "      <td>-0.069588</td>\n",
       "      <td>-0.080861</td>\n",
       "      <td>-0.045667</td>\n",
       "      <td>-0.120738</td>\n",
       "      <td>-0.192369</td>\n",
       "      <td>0.172329</td>\n",
       "      <td>0.274004</td>\n",
       "      <td>0.311950</td>\n",
       "      <td>0.213987</td>\n",
       "      <td>1.000000</td>\n",
       "      <td>0.337553</td>\n",
       "      <td>-0.243426</td>\n",
       "      <td>0.355390</td>\n",
       "      <td>0.359880</td>\n",
       "      <td>-0.363029</td>\n",
       "    </tr>\n",
       "    <tr>\n",
       "      <th>meandom</th>\n",
       "      <td>0.536666</td>\n",
       "      <td>-0.482726</td>\n",
       "      <td>0.455943</td>\n",
       "      <td>0.467403</td>\n",
       "      <td>0.359181</td>\n",
       "      <td>-0.333362</td>\n",
       "      <td>-0.336848</td>\n",
       "      <td>-0.303234</td>\n",
       "      <td>-0.293562</td>\n",
       "      <td>-0.428442</td>\n",
       "      <td>0.491479</td>\n",
       "      <td>0.536666</td>\n",
       "      <td>0.270840</td>\n",
       "      <td>0.375979</td>\n",
       "      <td>0.337553</td>\n",
       "      <td>1.000000</td>\n",
       "      <td>0.099656</td>\n",
       "      <td>0.812838</td>\n",
       "      <td>0.811304</td>\n",
       "      <td>-0.180954</td>\n",
       "    </tr>\n",
       "    <tr>\n",
       "      <th>mindom</th>\n",
       "      <td>0.229261</td>\n",
       "      <td>-0.357667</td>\n",
       "      <td>0.191169</td>\n",
       "      <td>0.302255</td>\n",
       "      <td>-0.023750</td>\n",
       "      <td>-0.357037</td>\n",
       "      <td>-0.061608</td>\n",
       "      <td>-0.103313</td>\n",
       "      <td>-0.294869</td>\n",
       "      <td>-0.289593</td>\n",
       "      <td>0.198150</td>\n",
       "      <td>0.229261</td>\n",
       "      <td>0.162163</td>\n",
       "      <td>0.082015</td>\n",
       "      <td>-0.243426</td>\n",
       "      <td>0.099656</td>\n",
       "      <td>1.000000</td>\n",
       "      <td>0.026640</td>\n",
       "      <td>0.008666</td>\n",
       "      <td>0.200212</td>\n",
       "    </tr>\n",
       "    <tr>\n",
       "      <th>maxdom</th>\n",
       "      <td>0.519528</td>\n",
       "      <td>-0.482278</td>\n",
       "      <td>0.438919</td>\n",
       "      <td>0.459683</td>\n",
       "      <td>0.335114</td>\n",
       "      <td>-0.337877</td>\n",
       "      <td>-0.305651</td>\n",
       "      <td>-0.274500</td>\n",
       "      <td>-0.324253</td>\n",
       "      <td>-0.436649</td>\n",
       "      <td>0.477187</td>\n",
       "      <td>0.519528</td>\n",
       "      <td>0.277982</td>\n",
       "      <td>0.317860</td>\n",
       "      <td>0.355390</td>\n",
       "      <td>0.812838</td>\n",
       "      <td>0.026640</td>\n",
       "      <td>1.000000</td>\n",
       "      <td>0.999838</td>\n",
       "      <td>-0.425531</td>\n",
       "    </tr>\n",
       "    <tr>\n",
       "      <th>dfrange</th>\n",
       "      <td>0.515570</td>\n",
       "      <td>-0.475999</td>\n",
       "      <td>0.435621</td>\n",
       "      <td>0.454394</td>\n",
       "      <td>0.335648</td>\n",
       "      <td>-0.331563</td>\n",
       "      <td>-0.304640</td>\n",
       "      <td>-0.272729</td>\n",
       "      <td>-0.319054</td>\n",
       "      <td>-0.431580</td>\n",
       "      <td>0.473775</td>\n",
       "      <td>0.515570</td>\n",
       "      <td>0.275154</td>\n",
       "      <td>0.316486</td>\n",
       "      <td>0.359880</td>\n",
       "      <td>0.811304</td>\n",
       "      <td>0.008666</td>\n",
       "      <td>0.999838</td>\n",
       "      <td>1.000000</td>\n",
       "      <td>-0.429266</td>\n",
       "    </tr>\n",
       "    <tr>\n",
       "      <th>modindx</th>\n",
       "      <td>-0.216979</td>\n",
       "      <td>0.122660</td>\n",
       "      <td>-0.213298</td>\n",
       "      <td>-0.141377</td>\n",
       "      <td>-0.216475</td>\n",
       "      <td>0.041252</td>\n",
       "      <td>-0.169325</td>\n",
       "      <td>-0.205539</td>\n",
       "      <td>0.198074</td>\n",
       "      <td>0.211477</td>\n",
       "      <td>-0.182344</td>\n",
       "      <td>-0.216979</td>\n",
       "      <td>-0.054858</td>\n",
       "      <td>0.002042</td>\n",
       "      <td>-0.363029</td>\n",
       "      <td>-0.180954</td>\n",
       "      <td>0.200212</td>\n",
       "      <td>-0.425531</td>\n",
       "      <td>-0.429266</td>\n",
       "      <td>1.000000</td>\n",
       "    </tr>\n",
       "  </tbody>\n",
       "</table>\n",
       "</div>"
      ],
      "text/plain": [
       "          meanfreq        sd    median       Q25       Q75       IQR  \\\n",
       "meanfreq  1.000000 -0.739039  0.925445  0.911416  0.740997 -0.627605   \n",
       "sd       -0.739039  1.000000 -0.562603 -0.846931 -0.161076  0.874660   \n",
       "median    0.925445 -0.562603  1.000000  0.774922  0.731849 -0.477352   \n",
       "Q25       0.911416 -0.846931  0.774922  1.000000  0.477140 -0.874189   \n",
       "Q75       0.740997 -0.161076  0.731849  0.477140  1.000000  0.009636   \n",
       "IQR      -0.627605  0.874660 -0.477352 -0.874189  0.009636  1.000000   \n",
       "skew     -0.322327  0.314597 -0.257407 -0.319475 -0.206339  0.249497   \n",
       "kurt     -0.316036  0.346241 -0.243382 -0.350182 -0.148881  0.316185   \n",
       "sp.ent   -0.601203  0.716620 -0.502005 -0.648126 -0.174905  0.640813   \n",
       "sfm      -0.784332  0.838086 -0.661690 -0.766875 -0.378198  0.663601   \n",
       "mode      0.687715 -0.529150  0.677433  0.591277  0.486857 -0.403764   \n",
       "centroid  1.000000 -0.739039  0.925445  0.911416  0.740997 -0.627605   \n",
       "meanfun   0.460844 -0.466281  0.414909  0.545035  0.155091 -0.534462   \n",
       "minfun    0.383937 -0.345609  0.337602  0.320994  0.258002 -0.222680   \n",
       "maxfun    0.274004 -0.129662  0.251328  0.199841  0.285584 -0.069588   \n",
       "meandom   0.536666 -0.482726  0.455943  0.467403  0.359181 -0.333362   \n",
       "mindom    0.229261 -0.357667  0.191169  0.302255 -0.023750 -0.357037   \n",
       "maxdom    0.519528 -0.482278  0.438919  0.459683  0.335114 -0.337877   \n",
       "dfrange   0.515570 -0.475999  0.435621  0.454394  0.335648 -0.331563   \n",
       "modindx  -0.216979  0.122660 -0.213298 -0.141377 -0.216475  0.041252   \n",
       "\n",
       "              skew      kurt    sp.ent       sfm      mode  centroid  \\\n",
       "meanfreq -0.322327 -0.316036 -0.601203 -0.784332  0.687715  1.000000   \n",
       "sd        0.314597  0.346241  0.716620  0.838086 -0.529150 -0.739039   \n",
       "median   -0.257407 -0.243382 -0.502005 -0.661690  0.677433  0.925445   \n",
       "Q25      -0.319475 -0.350182 -0.648126 -0.766875  0.591277  0.911416   \n",
       "Q75      -0.206339 -0.148881 -0.174905 -0.378198  0.486857  0.740997   \n",
       "IQR       0.249497  0.316185  0.640813  0.663601 -0.403764 -0.627605   \n",
       "skew      1.000000  0.977020 -0.195459  0.079694 -0.434859 -0.322327   \n",
       "kurt      0.977020  1.000000 -0.127644  0.109884 -0.406722 -0.316036   \n",
       "sp.ent   -0.195459 -0.127644  1.000000  0.866411 -0.325298 -0.601203   \n",
       "sfm       0.079694  0.109884  0.866411  1.000000 -0.485913 -0.784332   \n",
       "mode     -0.434859 -0.406722 -0.325298 -0.485913  1.000000  0.687715   \n",
       "centroid -0.322327 -0.316036 -0.601203 -0.784332  0.687715  1.000000   \n",
       "meanfun  -0.167668 -0.194560 -0.513194 -0.421066  0.324771  0.460844   \n",
       "minfun   -0.216954 -0.203201 -0.305826 -0.362100  0.385467  0.383937   \n",
       "maxfun   -0.080861 -0.045667 -0.120738 -0.192369  0.172329  0.274004   \n",
       "meandom  -0.336848 -0.303234 -0.293562 -0.428442  0.491479  0.536666   \n",
       "mindom   -0.061608 -0.103313 -0.294869 -0.289593  0.198150  0.229261   \n",
       "maxdom   -0.305651 -0.274500 -0.324253 -0.436649  0.477187  0.519528   \n",
       "dfrange  -0.304640 -0.272729 -0.319054 -0.431580  0.473775  0.515570   \n",
       "modindx  -0.169325 -0.205539  0.198074  0.211477 -0.182344 -0.216979   \n",
       "\n",
       "           meanfun    minfun    maxfun   meandom    mindom    maxdom  \\\n",
       "meanfreq  0.460844  0.383937  0.274004  0.536666  0.229261  0.519528   \n",
       "sd       -0.466281 -0.345609 -0.129662 -0.482726 -0.357667 -0.482278   \n",
       "median    0.414909  0.337602  0.251328  0.455943  0.191169  0.438919   \n",
       "Q25       0.545035  0.320994  0.199841  0.467403  0.302255  0.459683   \n",
       "Q75       0.155091  0.258002  0.285584  0.359181 -0.023750  0.335114   \n",
       "IQR      -0.534462 -0.222680 -0.069588 -0.333362 -0.357037 -0.337877   \n",
       "skew     -0.167668 -0.216954 -0.080861 -0.336848 -0.061608 -0.305651   \n",
       "kurt     -0.194560 -0.203201 -0.045667 -0.303234 -0.103313 -0.274500   \n",
       "sp.ent   -0.513194 -0.305826 -0.120738 -0.293562 -0.294869 -0.324253   \n",
       "sfm      -0.421066 -0.362100 -0.192369 -0.428442 -0.289593 -0.436649   \n",
       "mode      0.324771  0.385467  0.172329  0.491479  0.198150  0.477187   \n",
       "centroid  0.460844  0.383937  0.274004  0.536666  0.229261  0.519528   \n",
       "meanfun   1.000000  0.339387  0.311950  0.270840  0.162163  0.277982   \n",
       "minfun    0.339387  1.000000  0.213987  0.375979  0.082015  0.317860   \n",
       "maxfun    0.311950  0.213987  1.000000  0.337553 -0.243426  0.355390   \n",
       "meandom   0.270840  0.375979  0.337553  1.000000  0.099656  0.812838   \n",
       "mindom    0.162163  0.082015 -0.243426  0.099656  1.000000  0.026640   \n",
       "maxdom    0.277982  0.317860  0.355390  0.812838  0.026640  1.000000   \n",
       "dfrange   0.275154  0.316486  0.359880  0.811304  0.008666  0.999838   \n",
       "modindx  -0.054858  0.002042 -0.363029 -0.180954  0.200212 -0.425531   \n",
       "\n",
       "           dfrange   modindx  \n",
       "meanfreq  0.515570 -0.216979  \n",
       "sd       -0.475999  0.122660  \n",
       "median    0.435621 -0.213298  \n",
       "Q25       0.454394 -0.141377  \n",
       "Q75       0.335648 -0.216475  \n",
       "IQR      -0.331563  0.041252  \n",
       "skew     -0.304640 -0.169325  \n",
       "kurt     -0.272729 -0.205539  \n",
       "sp.ent   -0.319054  0.198074  \n",
       "sfm      -0.431580  0.211477  \n",
       "mode      0.473775 -0.182344  \n",
       "centroid  0.515570 -0.216979  \n",
       "meanfun   0.275154 -0.054858  \n",
       "minfun    0.316486  0.002042  \n",
       "maxfun    0.359880 -0.363029  \n",
       "meandom   0.811304 -0.180954  \n",
       "mindom    0.008666  0.200212  \n",
       "maxdom    0.999838 -0.425531  \n",
       "dfrange   1.000000 -0.429266  \n",
       "modindx  -0.429266  1.000000  "
      ]
     },
     "execution_count": 9,
     "metadata": {},
     "output_type": "execute_result"
    }
   ],
   "source": [
    "X.corr()"
   ]
  },
  {
   "cell_type": "code",
   "execution_count": 10,
   "id": "4014f84f",
   "metadata": {
    "execution": {
     "iopub.execute_input": "2023-09-09T16:25:27.866056Z",
     "iopub.status.busy": "2023-09-09T16:25:27.865633Z",
     "iopub.status.idle": "2023-09-09T16:25:27.873729Z",
     "shell.execute_reply": "2023-09-09T16:25:27.872584Z"
    },
    "papermill": {
     "duration": 0.027745,
     "end_time": "2023-09-09T16:25:27.875964",
     "exception": false,
     "start_time": "2023-09-09T16:25:27.848219",
     "status": "completed"
    },
    "tags": []
   },
   "outputs": [],
   "source": [
    "data.label = [1 if each == \"female\" else 0 for each in data.label]\n",
    "#we asssign 1 to female,0 to male"
   ]
  },
  {
   "cell_type": "code",
   "execution_count": 11,
   "id": "3b0d464b",
   "metadata": {
    "execution": {
     "iopub.execute_input": "2023-09-09T16:25:27.909928Z",
     "iopub.status.busy": "2023-09-09T16:25:27.909490Z",
     "iopub.status.idle": "2023-09-09T16:25:27.915726Z",
     "shell.execute_reply": "2023-09-09T16:25:27.914647Z"
    },
    "papermill": {
     "duration": 0.026088,
     "end_time": "2023-09-09T16:25:27.918015",
     "exception": false,
     "start_time": "2023-09-09T16:25:27.891927",
     "status": "completed"
    },
    "tags": []
   },
   "outputs": [],
   "source": [
    "# we should have x and y values for test-train data\n",
    "y = data.label.values\n",
    "x_data = data.drop([\"label\"],axis=1)"
   ]
  },
  {
   "cell_type": "code",
   "execution_count": 12,
   "id": "8d4a568c",
   "metadata": {
    "execution": {
     "iopub.execute_input": "2023-09-09T16:25:27.952486Z",
     "iopub.status.busy": "2023-09-09T16:25:27.951783Z",
     "iopub.status.idle": "2023-09-09T16:25:27.984442Z",
     "shell.execute_reply": "2023-09-09T16:25:27.983473Z"
    },
    "papermill": {
     "duration": 0.052597,
     "end_time": "2023-09-09T16:25:27.986972",
     "exception": false,
     "start_time": "2023-09-09T16:25:27.934375",
     "status": "completed"
    },
    "tags": []
   },
   "outputs": [
    {
     "data": {
      "text/html": [
       "<div>\n",
       "<style scoped>\n",
       "    .dataframe tbody tr th:only-of-type {\n",
       "        vertical-align: middle;\n",
       "    }\n",
       "\n",
       "    .dataframe tbody tr th {\n",
       "        vertical-align: top;\n",
       "    }\n",
       "\n",
       "    .dataframe thead th {\n",
       "        text-align: right;\n",
       "    }\n",
       "</style>\n",
       "<table border=\"1\" class=\"dataframe\">\n",
       "  <thead>\n",
       "    <tr style=\"text-align: right;\">\n",
       "      <th></th>\n",
       "      <th>meanfreq</th>\n",
       "      <th>sd</th>\n",
       "      <th>median</th>\n",
       "      <th>Q25</th>\n",
       "      <th>Q75</th>\n",
       "      <th>IQR</th>\n",
       "      <th>skew</th>\n",
       "      <th>kurt</th>\n",
       "      <th>sp.ent</th>\n",
       "      <th>sfm</th>\n",
       "      <th>mode</th>\n",
       "      <th>centroid</th>\n",
       "      <th>meanfun</th>\n",
       "      <th>minfun</th>\n",
       "      <th>maxfun</th>\n",
       "      <th>meandom</th>\n",
       "      <th>mindom</th>\n",
       "      <th>maxdom</th>\n",
       "      <th>dfrange</th>\n",
       "      <th>modindx</th>\n",
       "    </tr>\n",
       "  </thead>\n",
       "  <tbody>\n",
       "    <tr>\n",
       "      <th>0</th>\n",
       "      <td>0.000046</td>\n",
       "      <td>0.000049</td>\n",
       "      <td>0.000024</td>\n",
       "      <td>0.000012</td>\n",
       "      <td>0.000069</td>\n",
       "      <td>0.000057</td>\n",
       "      <td>0.009822</td>\n",
       "      <td>0.209530</td>\n",
       "      <td>0.000682</td>\n",
       "      <td>0.000376</td>\n",
       "      <td>0.000000</td>\n",
       "      <td>0.000046</td>\n",
       "      <td>0.000064</td>\n",
       "      <td>0.000012</td>\n",
       "      <td>0.000211</td>\n",
       "      <td>0.000006</td>\n",
       "      <td>0.000006</td>\n",
       "      <td>0.000006</td>\n",
       "      <td>0.000000</td>\n",
       "      <td>0.000000</td>\n",
       "    </tr>\n",
       "    <tr>\n",
       "      <th>1</th>\n",
       "      <td>0.000050</td>\n",
       "      <td>0.000051</td>\n",
       "      <td>0.000031</td>\n",
       "      <td>0.000015</td>\n",
       "      <td>0.000071</td>\n",
       "      <td>0.000056</td>\n",
       "      <td>0.017122</td>\n",
       "      <td>0.484581</td>\n",
       "      <td>0.000681</td>\n",
       "      <td>0.000392</td>\n",
       "      <td>0.000000</td>\n",
       "      <td>0.000050</td>\n",
       "      <td>0.000082</td>\n",
       "      <td>0.000012</td>\n",
       "      <td>0.000191</td>\n",
       "      <td>0.000007</td>\n",
       "      <td>0.000006</td>\n",
       "      <td>0.000042</td>\n",
       "      <td>0.000036</td>\n",
       "      <td>0.000040</td>\n",
       "    </tr>\n",
       "    <tr>\n",
       "      <th>2</th>\n",
       "      <td>0.000059</td>\n",
       "      <td>0.000064</td>\n",
       "      <td>0.000028</td>\n",
       "      <td>0.000007</td>\n",
       "      <td>0.000101</td>\n",
       "      <td>0.000094</td>\n",
       "      <td>0.023486</td>\n",
       "      <td>0.782619</td>\n",
       "      <td>0.000646</td>\n",
       "      <td>0.000366</td>\n",
       "      <td>0.000000</td>\n",
       "      <td>0.000059</td>\n",
       "      <td>0.000075</td>\n",
       "      <td>0.000012</td>\n",
       "      <td>0.000207</td>\n",
       "      <td>0.000006</td>\n",
       "      <td>0.000006</td>\n",
       "      <td>0.000012</td>\n",
       "      <td>0.000006</td>\n",
       "      <td>0.000036</td>\n",
       "    </tr>\n",
       "    <tr>\n",
       "      <th>3</th>\n",
       "      <td>0.000115</td>\n",
       "      <td>0.000055</td>\n",
       "      <td>0.000121</td>\n",
       "      <td>0.000074</td>\n",
       "      <td>0.000159</td>\n",
       "      <td>0.000085</td>\n",
       "      <td>0.000941</td>\n",
       "      <td>0.003190</td>\n",
       "      <td>0.000736</td>\n",
       "      <td>0.000555</td>\n",
       "      <td>0.000064</td>\n",
       "      <td>0.000115</td>\n",
       "      <td>0.000068</td>\n",
       "      <td>0.000014</td>\n",
       "      <td>0.000191</td>\n",
       "      <td>0.000154</td>\n",
       "      <td>0.000006</td>\n",
       "      <td>0.000430</td>\n",
       "      <td>0.000424</td>\n",
       "      <td>0.000189</td>\n",
       "    </tr>\n",
       "    <tr>\n",
       "      <th>4</th>\n",
       "      <td>0.000103</td>\n",
       "      <td>0.000060</td>\n",
       "      <td>0.000095</td>\n",
       "      <td>0.000060</td>\n",
       "      <td>0.000157</td>\n",
       "      <td>0.000097</td>\n",
       "      <td>0.000841</td>\n",
       "      <td>0.003309</td>\n",
       "      <td>0.000742</td>\n",
       "      <td>0.000598</td>\n",
       "      <td>0.000080</td>\n",
       "      <td>0.000103</td>\n",
       "      <td>0.000081</td>\n",
       "      <td>0.000013</td>\n",
       "      <td>0.000204</td>\n",
       "      <td>0.000544</td>\n",
       "      <td>0.000006</td>\n",
       "      <td>0.004188</td>\n",
       "      <td>0.004182</td>\n",
       "      <td>0.000159</td>\n",
       "    </tr>\n",
       "    <tr>\n",
       "      <th>...</th>\n",
       "      <td>...</td>\n",
       "      <td>...</td>\n",
       "      <td>...</td>\n",
       "      <td>...</td>\n",
       "      <td>...</td>\n",
       "      <td>...</td>\n",
       "      <td>...</td>\n",
       "      <td>...</td>\n",
       "      <td>...</td>\n",
       "      <td>...</td>\n",
       "      <td>...</td>\n",
       "      <td>...</td>\n",
       "      <td>...</td>\n",
       "      <td>...</td>\n",
       "      <td>...</td>\n",
       "      <td>...</td>\n",
       "      <td>...</td>\n",
       "      <td>...</td>\n",
       "      <td>...</td>\n",
       "      <td>...</td>\n",
       "    </tr>\n",
       "    <tr>\n",
       "      <th>3163</th>\n",
       "      <td>0.000101</td>\n",
       "      <td>0.000065</td>\n",
       "      <td>0.000117</td>\n",
       "      <td>0.000038</td>\n",
       "      <td>0.000154</td>\n",
       "      <td>0.000116</td>\n",
       "      <td>0.001346</td>\n",
       "      <td>0.005063</td>\n",
       "      <td>0.000735</td>\n",
       "      <td>0.000583</td>\n",
       "      <td>0.000153</td>\n",
       "      <td>0.000101</td>\n",
       "      <td>0.000140</td>\n",
       "      <td>0.000064</td>\n",
       "      <td>0.000200</td>\n",
       "      <td>0.000636</td>\n",
       "      <td>0.000006</td>\n",
       "      <td>0.003215</td>\n",
       "      <td>0.003209</td>\n",
       "      <td>0.000124</td>\n",
       "    </tr>\n",
       "    <tr>\n",
       "      <th>3164</th>\n",
       "      <td>0.000089</td>\n",
       "      <td>0.000068</td>\n",
       "      <td>0.000059</td>\n",
       "      <td>0.000033</td>\n",
       "      <td>0.000156</td>\n",
       "      <td>0.000124</td>\n",
       "      <td>0.000530</td>\n",
       "      <td>0.001912</td>\n",
       "      <td>0.000734</td>\n",
       "      <td>0.000542</td>\n",
       "      <td>0.000010</td>\n",
       "      <td>0.000089</td>\n",
       "      <td>0.000144</td>\n",
       "      <td>0.000026</td>\n",
       "      <td>0.000211</td>\n",
       "      <td>0.000695</td>\n",
       "      <td>0.000030</td>\n",
       "      <td>0.002810</td>\n",
       "      <td>0.002780</td>\n",
       "      <td>0.000212</td>\n",
       "    </tr>\n",
       "    <tr>\n",
       "      <th>3165</th>\n",
       "      <td>0.000108</td>\n",
       "      <td>0.000073</td>\n",
       "      <td>0.000140</td>\n",
       "      <td>0.000026</td>\n",
       "      <td>0.000171</td>\n",
       "      <td>0.000146</td>\n",
       "      <td>0.001433</td>\n",
       "      <td>0.005043</td>\n",
       "      <td>0.000723</td>\n",
       "      <td>0.000500</td>\n",
       "      <td>0.000006</td>\n",
       "      <td>0.000108</td>\n",
       "      <td>0.000160</td>\n",
       "      <td>0.000030</td>\n",
       "      <td>0.000211</td>\n",
       "      <td>0.000377</td>\n",
       "      <td>0.000006</td>\n",
       "      <td>0.002243</td>\n",
       "      <td>0.002237</td>\n",
       "      <td>0.000149</td>\n",
       "    </tr>\n",
       "    <tr>\n",
       "      <th>3166</th>\n",
       "      <td>0.000110</td>\n",
       "      <td>0.000069</td>\n",
       "      <td>0.000141</td>\n",
       "      <td>0.000033</td>\n",
       "      <td>0.000168</td>\n",
       "      <td>0.000135</td>\n",
       "      <td>0.001215</td>\n",
       "      <td>0.004114</td>\n",
       "      <td>0.000726</td>\n",
       "      <td>0.000516</td>\n",
       "      <td>0.000162</td>\n",
       "      <td>0.000110</td>\n",
       "      <td>0.000132</td>\n",
       "      <td>0.000026</td>\n",
       "      <td>0.000191</td>\n",
       "      <td>0.000604</td>\n",
       "      <td>0.000006</td>\n",
       "      <td>0.002744</td>\n",
       "      <td>0.002738</td>\n",
       "      <td>0.000237</td>\n",
       "    </tr>\n",
       "    <tr>\n",
       "      <th>3167</th>\n",
       "      <td>0.000126</td>\n",
       "      <td>0.000071</td>\n",
       "      <td>0.000140</td>\n",
       "      <td>0.000054</td>\n",
       "      <td>0.000192</td>\n",
       "      <td>0.000138</td>\n",
       "      <td>0.001302</td>\n",
       "      <td>0.004405</td>\n",
       "      <td>0.000717</td>\n",
       "      <td>0.000459</td>\n",
       "      <td>0.000204</td>\n",
       "      <td>0.000126</td>\n",
       "      <td>0.000142</td>\n",
       "      <td>0.000048</td>\n",
       "      <td>0.000207</td>\n",
       "      <td>0.000173</td>\n",
       "      <td>0.000006</td>\n",
       "      <td>0.000424</td>\n",
       "      <td>0.000418</td>\n",
       "      <td>0.000267</td>\n",
       "    </tr>\n",
       "  </tbody>\n",
       "</table>\n",
       "<p>3168 rows × 20 columns</p>\n",
       "</div>"
      ],
      "text/plain": [
       "      meanfreq        sd    median       Q25       Q75       IQR      skew  \\\n",
       "0     0.000046  0.000049  0.000024  0.000012  0.000069  0.000057  0.009822   \n",
       "1     0.000050  0.000051  0.000031  0.000015  0.000071  0.000056  0.017122   \n",
       "2     0.000059  0.000064  0.000028  0.000007  0.000101  0.000094  0.023486   \n",
       "3     0.000115  0.000055  0.000121  0.000074  0.000159  0.000085  0.000941   \n",
       "4     0.000103  0.000060  0.000095  0.000060  0.000157  0.000097  0.000841   \n",
       "...        ...       ...       ...       ...       ...       ...       ...   \n",
       "3163  0.000101  0.000065  0.000117  0.000038  0.000154  0.000116  0.001346   \n",
       "3164  0.000089  0.000068  0.000059  0.000033  0.000156  0.000124  0.000530   \n",
       "3165  0.000108  0.000073  0.000140  0.000026  0.000171  0.000146  0.001433   \n",
       "3166  0.000110  0.000069  0.000141  0.000033  0.000168  0.000135  0.001215   \n",
       "3167  0.000126  0.000071  0.000140  0.000054  0.000192  0.000138  0.001302   \n",
       "\n",
       "          kurt    sp.ent       sfm      mode  centroid   meanfun    minfun  \\\n",
       "0     0.209530  0.000682  0.000376  0.000000  0.000046  0.000064  0.000012   \n",
       "1     0.484581  0.000681  0.000392  0.000000  0.000050  0.000082  0.000012   \n",
       "2     0.782619  0.000646  0.000366  0.000000  0.000059  0.000075  0.000012   \n",
       "3     0.003190  0.000736  0.000555  0.000064  0.000115  0.000068  0.000014   \n",
       "4     0.003309  0.000742  0.000598  0.000080  0.000103  0.000081  0.000013   \n",
       "...        ...       ...       ...       ...       ...       ...       ...   \n",
       "3163  0.005063  0.000735  0.000583  0.000153  0.000101  0.000140  0.000064   \n",
       "3164  0.001912  0.000734  0.000542  0.000010  0.000089  0.000144  0.000026   \n",
       "3165  0.005043  0.000723  0.000500  0.000006  0.000108  0.000160  0.000030   \n",
       "3166  0.004114  0.000726  0.000516  0.000162  0.000110  0.000132  0.000026   \n",
       "3167  0.004405  0.000717  0.000459  0.000204  0.000126  0.000142  0.000048   \n",
       "\n",
       "        maxfun   meandom    mindom    maxdom   dfrange   modindx  \n",
       "0     0.000211  0.000006  0.000006  0.000006  0.000000  0.000000  \n",
       "1     0.000191  0.000007  0.000006  0.000042  0.000036  0.000040  \n",
       "2     0.000207  0.000006  0.000006  0.000012  0.000006  0.000036  \n",
       "3     0.000191  0.000154  0.000006  0.000430  0.000424  0.000189  \n",
       "4     0.000204  0.000544  0.000006  0.004188  0.004182  0.000159  \n",
       "...        ...       ...       ...       ...       ...       ...  \n",
       "3163  0.000200  0.000636  0.000006  0.003215  0.003209  0.000124  \n",
       "3164  0.000211  0.000695  0.000030  0.002810  0.002780  0.000212  \n",
       "3165  0.000211  0.000377  0.000006  0.002243  0.002237  0.000149  \n",
       "3166  0.000191  0.000604  0.000006  0.002744  0.002738  0.000237  \n",
       "3167  0.000207  0.000173  0.000006  0.000424  0.000418  0.000267  \n",
       "\n",
       "[3168 rows x 20 columns]"
      ]
     },
     "execution_count": 12,
     "metadata": {},
     "output_type": "execute_result"
    }
   ],
   "source": [
    "x = (x_data - np.min(x_data)) / (np.max(x_data))\n",
    "x"
   ]
  },
  {
   "cell_type": "code",
   "execution_count": 13,
   "id": "9036ffb4",
   "metadata": {
    "execution": {
     "iopub.execute_input": "2023-09-09T16:25:28.022796Z",
     "iopub.status.busy": "2023-09-09T16:25:28.022430Z",
     "iopub.status.idle": "2023-09-09T16:25:28.030255Z",
     "shell.execute_reply": "2023-09-09T16:25:28.029302Z"
    },
    "papermill": {
     "duration": 0.028129,
     "end_time": "2023-09-09T16:25:28.032379",
     "exception": false,
     "start_time": "2023-09-09T16:25:28.004250",
     "status": "completed"
    },
    "tags": []
   },
   "outputs": [],
   "source": [
    "from sklearn.model_selection import train_test_split\n",
    "x_train,x_test,y_train,y_test = train_test_split(x_data,y,test_size=0.2,random_state = 42)\n",
    "\n",
    "#test_size=0.2 means %20 testdatas,%80 train datas\n",
    "method_names = []\n",
    "method_scores = []\n",
    "#these are for barplot in conclusion "
   ]
  },
  {
   "cell_type": "markdown",
   "id": "46aa66df",
   "metadata": {
    "papermill": {
     "duration": 0.016567,
     "end_time": "2023-09-09T16:25:28.066530",
     "exception": false,
     "start_time": "2023-09-09T16:25:28.049963",
     "status": "completed"
    },
    "tags": []
   },
   "source": [
    "# Logistic regression classification"
   ]
  },
  {
   "cell_type": "code",
   "execution_count": 14,
   "id": "fe9e0cc5",
   "metadata": {
    "execution": {
     "iopub.execute_input": "2023-09-09T16:25:28.102424Z",
     "iopub.status.busy": "2023-09-09T16:25:28.101438Z",
     "iopub.status.idle": "2023-09-09T16:25:28.579950Z",
     "shell.execute_reply": "2023-09-09T16:25:28.579035Z"
    },
    "papermill": {
     "duration": 0.498809,
     "end_time": "2023-09-09T16:25:28.582479",
     "exception": false,
     "start_time": "2023-09-09T16:25:28.083670",
     "status": "completed"
    },
    "tags": []
   },
   "outputs": [
    {
     "name": "stderr",
     "output_type": "stream",
     "text": [
      "/opt/conda/lib/python3.10/site-packages/sklearn/linear_model/_logistic.py:458: ConvergenceWarning: lbfgs failed to converge (status=1):\n",
      "STOP: TOTAL NO. of ITERATIONS REACHED LIMIT.\n",
      "\n",
      "Increase the number of iterations (max_iter) or scale the data as shown in:\n",
      "    https://scikit-learn.org/stable/modules/preprocessing.html\n",
      "Please also refer to the documentation for alternative solver options:\n",
      "    https://scikit-learn.org/stable/modules/linear_model.html#logistic-regression\n",
      "  n_iter_i = _check_optimize_result(\n"
     ]
    },
    {
     "name": "stdout",
     "output_type": "stream",
     "text": [
      "Logistic Regression Classification Test Accuracy 0.8123028391167192\n"
     ]
    },
    {
     "data": {
      "image/png": "[encoded data removed]",
      "text/plain": [
       "<Figure size 400x400 with 2 Axes>"
      ]
     },
     "metadata": {},
     "output_type": "display_data"
    }
   ],
   "source": [
    "log_reg = LogisticRegression()\n",
    "log_reg.fit(x_train, y_train)#fitting\n",
    "print(\"Logistic Regression Classification Test Accuracy {}\".format(log_reg.score(x_test,y_test)))\n",
    "\n",
    "\n",
    "method_names.append(\"Logistic Reg.\")\n",
    "method_scores.append(log_reg.score(x_test,y_test))\n",
    "\n",
    "#confision matrix\n",
    "y_pred = log_reg.predict(x_test) \n",
    "conf_mat = confusion_matrix(y_test,y_pred)\n",
    "\n",
    "#visualization confusion matrix\n",
    "f,ax=plt.subplots(figsize=(4,4))\n",
    "sns.heatmap(conf_mat,annot=True, linewidths=0.5,linecolor=\"red\", fmt=\".0f\",ax=ax)\n",
    "plt.xlabel(\"Predicted Values\")\n",
    "plt.ylabel(\"True Values\")\n",
    "plt.show()\n"
   ]
  },
  {
   "cell_type": "markdown",
   "id": "40ba51a8",
   "metadata": {
    "papermill": {
     "duration": 0.017099,
     "end_time": "2023-09-09T16:25:28.617083",
     "exception": false,
     "start_time": "2023-09-09T16:25:28.599984",
     "status": "completed"
    },
    "tags": []
   },
   "source": [
    "# KNN(K-Nearest Neighbour)Classification"
   ]
  },
  {
   "cell_type": "code",
   "execution_count": 15,
   "id": "86545b39",
   "metadata": {
    "execution": {
     "iopub.execute_input": "2023-09-09T16:25:28.653606Z",
     "iopub.status.busy": "2023-09-09T16:25:28.652875Z",
     "iopub.status.idle": "2023-09-09T16:25:29.263033Z",
     "shell.execute_reply": "2023-09-09T16:25:29.261831Z"
    },
    "papermill": {
     "duration": 0.631051,
     "end_time": "2023-09-09T16:25:29.265462",
     "exception": false,
     "start_time": "2023-09-09T16:25:28.634411",
     "status": "completed"
    },
    "tags": []
   },
   "outputs": [
    {
     "name": "stdout",
     "output_type": "stream",
     "text": [
      "Score for number of Neighbors = 3; 0.7129337539432177\n"
     ]
    },
    {
     "data": {
      "image/png": "[encoded data removed]",
      "text/plain": [
       "<Figure size 500x500 with 2 Axes>"
      ]
     },
     "metadata": {},
     "output_type": "display_data"
    }
   ],
   "source": [
    "from sklearn.neighbors import KNeighborsClassifier\n",
    "knn  = KNeighborsClassifier(n_neighbors=3)\n",
    "\n",
    "\n",
    "knn.fit(x_train, y_train)#fitting\n",
    "print(\"Score for number of Neighbors = 3; {}\".format(knn.score(x_test,y_test)))\n",
    "\n",
    "\n",
    "method_names.append(\"KNN\")\n",
    "method_scores.append(knn.score(x_test,y_test))\n",
    "\n",
    "#confision matrix\n",
    "y_pred = knn.predict(x_test) \n",
    "conf_mat = confusion_matrix(y_test,y_pred)\n",
    "\n",
    "#visualization confusion matrix\n",
    "f,ax=plt.subplots(figsize=(5,5))\n",
    "sns.heatmap(conf_mat,annot=True, linewidths=0.5,linecolor=\"red\", fmt=\".0f\",ax=ax)\n",
    "plt.xlabel(\"Predicted Values\")\n",
    "plt.ylabel(\"True Values\")\n",
    "plt.show()\n"
   ]
  },
  {
   "cell_type": "code",
   "execution_count": 16,
   "id": "ba1d8de6",
   "metadata": {
    "execution": {
     "iopub.execute_input": "2023-09-09T16:25:29.302347Z",
     "iopub.status.busy": "2023-09-09T16:25:29.301965Z",
     "iopub.status.idle": "2023-09-09T16:25:29.627784Z",
     "shell.execute_reply": "2023-09-09T16:25:29.626624Z"
    },
    "papermill": {
     "duration": 0.347363,
     "end_time": "2023-09-09T16:25:29.630281",
     "exception": false,
     "start_time": "2023-09-09T16:25:29.282918",
     "status": "completed"
    },
    "tags": []
   },
   "outputs": [
    {
     "name": "stdout",
     "output_type": "stream",
     "text": [
      "Score for number of Neighbors = 6; 0.7208201892744479\n"
     ]
    },
    {
     "data": {
      "image/png": "[encoded data removed]",
      "text/plain": [
       "<Figure size 500x500 with 2 Axes>"
      ]
     },
     "metadata": {},
     "output_type": "display_data"
    }
   ],
   "source": [
    "from sklearn.neighbors import KNeighborsClassifier\n",
    "knn = KNeighborsClassifier(n_neighbors=6,weights ='distance',algorithm ='auto',metric = 'euclidean',leaf_size=30,p=2)\n",
    "\n",
    "knn.fit(x_train, y_train)#fitting\n",
    "print(\"Score for number of Neighbors = 6; {}\".format(knn.score(x_test,y_test)))\n",
    "\n",
    "\n",
    "method_names.append(\"KNN\")\n",
    "method_scores.append(knn.score(x_test,y_test))\n",
    "\n",
    "#confision matrix\n",
    "y_pred = knn.predict(x_test) \n",
    "conf_mat = confusion_matrix(y_test,y_pred)\n",
    "\n",
    "#visualization confusion matrix\n",
    "f,ax=plt.subplots(figsize=(5,5))\n",
    "sns.heatmap(conf_mat,annot=True, linewidths=0.5,linecolor=\"red\", fmt=\".0f\",ax=ax)\n",
    "plt.xlabel(\"Predicted Values\")\n",
    "plt.ylabel(\"True Values\")\n",
    "plt.show()\n"
   ]
  },
  {
   "cell_type": "markdown",
   "id": "aa880a3d",
   "metadata": {
    "papermill": {
     "duration": 0.016582,
     "end_time": "2023-09-09T16:25:29.664761",
     "exception": false,
     "start_time": "2023-09-09T16:25:29.648179",
     "status": "completed"
    },
    "tags": []
   },
   "source": [
    "# SVM(Support Vector Machine)"
   ]
  },
  {
   "cell_type": "code",
   "execution_count": 17,
   "id": "f45c3e3c",
   "metadata": {
    "execution": {
     "iopub.execute_input": "2023-09-09T16:25:29.701705Z",
     "iopub.status.busy": "2023-09-09T16:25:29.701325Z",
     "iopub.status.idle": "2023-09-09T16:25:30.598096Z",
     "shell.execute_reply": "2023-09-09T16:25:30.596921Z"
    },
    "papermill": {
     "duration": 0.918394,
     "end_time": "2023-09-09T16:25:30.600824",
     "exception": false,
     "start_time": "2023-09-09T16:25:29.682430",
     "status": "completed"
    },
    "tags": []
   },
   "outputs": [
    {
     "name": "stdout",
     "output_type": "stream",
     "text": [
      "SVM Classification Score is: 0.6561514195583596\n"
     ]
    },
    {
     "data": {
      "image/png": "[encoded data removed]",
      "text/plain": [
       "<Figure size 500x500 with 2 Axes>"
      ]
     },
     "metadata": {},
     "output_type": "display_data"
    }
   ],
   "source": [
    "from sklearn.svm import SVC\n",
    "svm = SVC(random_state=42)\n",
    "\n",
    "svm.fit(x_train, y_train)#fitting\n",
    "print(\"SVM Classification Score is: {}\".format(svm.score(x_test,y_test)))\n",
    "\n",
    "\n",
    "method_names.append(\"SVM\")\n",
    "method_scores.append(svm.score(x_test,y_test))\n",
    "\n",
    "#confision matrix\n",
    "y_pred = svm.predict(x_test) \n",
    "conf_mat = confusion_matrix(y_test,y_pred)\n",
    "\n",
    "#visualization confusion matrix\n",
    "f,ax=plt.subplots(figsize=(5,5))\n",
    "sns.heatmap(conf_mat,annot=True, linewidths=0.5,linecolor=\"red\", fmt=\".0f\",ax=ax)\n",
    "plt.xlabel(\"Predicted Values\")\n",
    "plt.ylabel(\"True Values\")\n",
    "plt.show()\n"
   ]
  },
  {
   "cell_type": "code",
   "execution_count": 18,
   "id": "f2d18254",
   "metadata": {
    "execution": {
     "iopub.execute_input": "2023-09-09T16:25:30.654462Z",
     "iopub.status.busy": "2023-09-09T16:25:30.653822Z",
     "iopub.status.idle": "2023-09-09T16:25:31.562125Z",
     "shell.execute_reply": "2023-09-09T16:25:31.561214Z"
    },
    "papermill": {
     "duration": 0.939334,
     "end_time": "2023-09-09T16:25:31.564205",
     "exception": false,
     "start_time": "2023-09-09T16:25:30.624871",
     "status": "completed"
    },
    "tags": []
   },
   "outputs": [
    {
     "name": "stdout",
     "output_type": "stream",
     "text": [
      "SVM Classification Score is: 0.6561514195583596\n"
     ]
    },
    {
     "data": {
      "image/png": "[encoded data removed]",
      "text/plain": [
       "<Figure size 500x500 with 2 Axes>"
      ]
     },
     "metadata": {},
     "output_type": "display_data"
    }
   ],
   "source": [
    "from sklearn.svm import SVC\n",
    "svm = SVC(random_state=42,degree=3,gamma='scale',probability=False,shrinking=True,cache_size=200)\n",
    "\n",
    "svm.fit(x_train, y_train)#fitting\n",
    "print(\"SVM Classification Score is: {}\".format(svm.score(x_test,y_test)))\n",
    "\n",
    "\n",
    "method_names.append(\"SVM\")\n",
    "method_scores.append(svm.score(x_test,y_test))\n",
    "\n",
    "#confision matrix\n",
    "y_pred = svm.predict(x_test) \n",
    "conf_mat = confusion_matrix(y_test,y_pred)\n",
    "\n",
    "#visualization confusion matrix\n",
    "f,ax=plt.subplots(figsize=(5,5))\n",
    "sns.heatmap(conf_mat,annot=True, linewidths=0.5,linecolor=\"red\", fmt=\".0f\",ax=ax)\n",
    "plt.xlabel(\"Predicted Values\")\n",
    "plt.ylabel(\"True Values\")\n",
    "plt.show()\n"
   ]
  },
  {
   "cell_type": "markdown",
   "id": "c4511c9f",
   "metadata": {
    "papermill": {
     "duration": 0.018644,
     "end_time": "2023-09-09T16:25:31.656400",
     "exception": false,
     "start_time": "2023-09-09T16:25:31.637756",
     "status": "completed"
    },
    "tags": []
   },
   "source": [
    "# Naive Bayes Classification"
   ]
  },
  {
   "cell_type": "code",
   "execution_count": 19,
   "id": "1db93cb1",
   "metadata": {
    "execution": {
     "iopub.execute_input": "2023-09-09T16:25:31.694862Z",
     "iopub.status.busy": "2023-09-09T16:25:31.694492Z",
     "iopub.status.idle": "2023-09-09T16:25:31.981403Z",
     "shell.execute_reply": "2023-09-09T16:25:31.980273Z"
    },
    "papermill": {
     "duration": 0.309231,
     "end_time": "2023-09-09T16:25:31.983807",
     "exception": false,
     "start_time": "2023-09-09T16:25:31.674576",
     "status": "completed"
    },
    "tags": []
   },
   "outputs": [
    {
     "name": "stdout",
     "output_type": "stream",
     "text": [
      "Naive Bayes Classification Score is: 0.9037854889589906\n"
     ]
    },
    {
     "data": {
      "image/png": "[encoded data removed]",
      "text/plain": [
       "<Figure size 500x500 with 2 Axes>"
      ]
     },
     "metadata": {},
     "output_type": "display_data"
    }
   ],
   "source": [
    "from sklearn.naive_bayes import GaussianNB\n",
    "naive_bayes = GaussianNB()\n",
    "\n",
    "naive_bayes.fit(x_train, y_train)#fitting\n",
    "print(\"Naive Bayes Classification Score is: {}\".format(naive_bayes.score(x_test,y_test)))\n",
    "\n",
    "\n",
    "method_names.append(\"Naive Bayes\")\n",
    "method_scores.append(naive_bayes.score(x_test,y_test))\n",
    "\n",
    "#confision matrix\n",
    "y_pred = naive_bayes.predict(x_test) \n",
    "conf_mat = confusion_matrix(y_test,y_pred)\n",
    "\n",
    "#visualization confusion matrix\n",
    "f,ax=plt.subplots(figsize=(5,5))\n",
    "sns.heatmap(conf_mat,annot=True, linewidths=0.5,linecolor=\"red\", fmt=\".0f\",ax=ax)\n",
    "plt.xlabel(\"Predicted Values\")\n",
    "plt.ylabel(\"True Values\")\n",
    "plt.show()\n"
   ]
  },
  {
   "cell_type": "code",
   "execution_count": 20,
   "id": "eee1657c",
   "metadata": {
    "execution": {
     "iopub.execute_input": "2023-09-09T16:25:32.026421Z",
     "iopub.status.busy": "2023-09-09T16:25:32.026050Z",
     "iopub.status.idle": "2023-09-09T16:25:32.305509Z",
     "shell.execute_reply": "2023-09-09T16:25:32.304359Z"
    },
    "papermill": {
     "duration": 0.304053,
     "end_time": "2023-09-09T16:25:32.308005",
     "exception": false,
     "start_time": "2023-09-09T16:25:32.003952",
     "status": "completed"
    },
    "tags": []
   },
   "outputs": [
    {
     "name": "stdout",
     "output_type": "stream",
     "text": [
      "Naive Bayes Classification Score is: 0.5\n"
     ]
    },
    {
     "data": {
      "image/png": "[encoded data removed]",
      "text/plain": [
       "<Figure size 500x500 with 2 Axes>"
      ]
     },
     "metadata": {},
     "output_type": "display_data"
    }
   ],
   "source": [
    "from sklearn.naive_bayes import MultinomialNB \n",
    "naive_bayes = MultinomialNB ()\n",
    "\n",
    "naive_bayes.fit(x_train, y_train)#fitting\n",
    "print(\"Naive Bayes Classification Score is: {}\".format(naive_bayes.score(x_test,y_test)))\n",
    "\n",
    "\n",
    "method_names.append(\"Naive Bayes\")\n",
    "method_scores.append(naive_bayes.score(x_test,y_test))\n",
    "\n",
    "#confision matrix\n",
    "y_pred = naive_bayes.predict(x_test) \n",
    "conf_mat = confusion_matrix(y_test,y_pred)\n",
    "\n",
    "#visualization confusion matrix\n",
    "f,ax=plt.subplots(figsize=(5,5))\n",
    "sns.heatmap(conf_mat,annot=True, linewidths=0.5,linecolor=\"red\", fmt=\".0f\",ax=ax)\n",
    "plt.xlabel(\"Predicted Values\")\n",
    "plt.ylabel(\"True Values\")\n",
    "plt.show()\n"
   ]
  },
  {
   "cell_type": "code",
   "execution_count": 21,
   "id": "a1c9d0ca",
   "metadata": {
    "execution": {
     "iopub.execute_input": "2023-09-09T16:25:32.349786Z",
     "iopub.status.busy": "2023-09-09T16:25:32.348784Z",
     "iopub.status.idle": "2023-09-09T16:25:32.725645Z",
     "shell.execute_reply": "2023-09-09T16:25:32.724555Z"
    },
    "papermill": {
     "duration": 0.400609,
     "end_time": "2023-09-09T16:25:32.728090",
     "exception": false,
     "start_time": "2023-09-09T16:25:32.327481",
     "status": "completed"
    },
    "tags": []
   },
   "outputs": [
    {
     "name": "stdout",
     "output_type": "stream",
     "text": [
      "Naive Bayes Classification Score is: 0.5\n"
     ]
    },
    {
     "data": {
      "image/png": "[encoded data removed]",
      "text/plain": [
       "<Figure size 500x500 with 2 Axes>"
      ]
     },
     "metadata": {},
     "output_type": "display_data"
    }
   ],
   "source": [
    "from sklearn.naive_bayes import ComplementNB \n",
    "naive_bayes = ComplementNB()\n",
    "\n",
    "naive_bayes.fit(x_train, y_train)#fitting\n",
    "print(\"Naive Bayes Classification Score is: {}\".format(naive_bayes.score(x_test,y_test)))\n",
    "\n",
    "\n",
    "method_names.append(\"Naive Bayes\")\n",
    "method_scores.append(naive_bayes.score(x_test,y_test))\n",
    "\n",
    "#confision matrix\n",
    "y_pred = naive_bayes.predict(x_test) \n",
    "conf_mat = confusion_matrix(y_test,y_pred)\n",
    "\n",
    "#visualization confusion matrix\n",
    "f,ax=plt.subplots(figsize=(5,5))\n",
    "sns.heatmap(conf_mat,annot=True, linewidths=0.5,linecolor=\"red\", fmt=\".0f\",ax=ax)\n",
    "plt.xlabel(\"Predicted Values\")\n",
    "plt.ylabel(\"True Values\")\n",
    "plt.show()\n"
   ]
  },
  {
   "cell_type": "code",
   "execution_count": 22,
   "id": "d4fe9d4f",
   "metadata": {
    "execution": {
     "iopub.execute_input": "2023-09-09T16:25:32.771114Z",
     "iopub.status.busy": "2023-09-09T16:25:32.770478Z",
     "iopub.status.idle": "2023-09-09T16:25:33.058307Z",
     "shell.execute_reply": "2023-09-09T16:25:33.057527Z"
    },
    "papermill": {
     "duration": 0.312113,
     "end_time": "2023-09-09T16:25:33.060908",
     "exception": false,
     "start_time": "2023-09-09T16:25:32.748795",
     "status": "completed"
    },
    "tags": []
   },
   "outputs": [
    {
     "name": "stdout",
     "output_type": "stream",
     "text": [
      "Naive Bayes Classification Score is: 0.5031545741324921\n"
     ]
    },
    {
     "data": {
      "image/png": "[encoded data removed]",
      "text/plain": [
       "<Figure size 500x500 with 2 Axes>"
      ]
     },
     "metadata": {},
     "output_type": "display_data"
    }
   ],
   "source": [
    "from sklearn.naive_bayes import BernoulliNB\n",
    "naive_bayes = BernoulliNB()\n",
    "\n",
    "naive_bayes.fit(x_train, y_train)#fitting\n",
    "print(\"Naive Bayes Classification Score is: {}\".format(naive_bayes.score(x_test,y_test)))\n",
    "\n",
    "\n",
    "method_names.append(\"Naive Bayes\")\n",
    "method_scores.append(naive_bayes.score(x_test,y_test))\n",
    "\n",
    "#confision matrix\n",
    "y_pred = naive_bayes.predict(x_test) \n",
    "conf_mat = confusion_matrix(y_test,y_pred)\n",
    "\n",
    "#visualization confusion matrix\n",
    "f,ax=plt.subplots(figsize=(5,5))\n",
    "sns.heatmap(conf_mat,annot=True, linewidths=0.5,linecolor=\"red\", fmt=\".0f\",ax=ax)\n",
    "plt.xlabel(\"Predicted Values\")\n",
    "plt.ylabel(\"True Values\")\n",
    "plt.show()\n"
   ]
  },
  {
   "cell_type": "code",
   "execution_count": 23,
   "id": "7754d960",
   "metadata": {
    "execution": {
     "iopub.execute_input": "2023-09-09T16:25:33.105606Z",
     "iopub.status.busy": "2023-09-09T16:25:33.104753Z",
     "iopub.status.idle": "2023-09-09T16:25:33.388805Z",
     "shell.execute_reply": "2023-09-09T16:25:33.387813Z"
    },
    "papermill": {
     "duration": 0.309158,
     "end_time": "2023-09-09T16:25:33.391235",
     "exception": false,
     "start_time": "2023-09-09T16:25:33.082077",
     "status": "completed"
    },
    "tags": []
   },
   "outputs": [
    {
     "name": "stdout",
     "output_type": "stream",
     "text": [
      "Naive Bayes Classification Score is: 0.6309148264984227\n"
     ]
    },
    {
     "data": {
      "image/png": "[encoded data removed]",
      "text/plain": [
       "<Figure size 500x500 with 2 Axes>"
      ]
     },
     "metadata": {},
     "output_type": "display_data"
    }
   ],
   "source": [
    "from sklearn.naive_bayes import CategoricalNB \n",
    "naive_bayes = CategoricalNB ()\n",
    "\n",
    "naive_bayes.fit(x_train, y_train)#fitting\n",
    "print(\"Naive Bayes Classification Score is: {}\".format(naive_bayes.score(x_test,y_test)))\n",
    "\n",
    "\n",
    "method_names.append(\"Naive Bayes\")\n",
    "method_scores.append(naive_bayes.score(x_test,y_test))\n",
    "\n",
    "#confision matrix\n",
    "y_pred = naive_bayes.predict(x_test) \n",
    "conf_mat = confusion_matrix(y_test,y_pred)\n",
    "\n",
    "#visualization confusion matrix\n",
    "f,ax=plt.subplots(figsize=(5,5))\n",
    "sns.heatmap(conf_mat,annot=True, linewidths=0.5,linecolor=\"red\", fmt=\".0f\",ax=ax)\n",
    "plt.xlabel(\"Predicted Values\")\n",
    "plt.ylabel(\"True Values\")\n",
    "plt.show()\n"
   ]
  },
  {
   "cell_type": "markdown",
   "id": "c7aad423",
   "metadata": {
    "papermill": {
     "duration": 0.021904,
     "end_time": "2023-09-09T16:25:33.434992",
     "exception": false,
     "start_time": "2023-09-09T16:25:33.413088",
     "status": "completed"
    },
    "tags": []
   },
   "source": [
    "# Decision Tree Classification"
   ]
  },
  {
   "cell_type": "code",
   "execution_count": 24,
   "id": "27d936cf",
   "metadata": {
    "execution": {
     "iopub.execute_input": "2023-09-09T16:25:33.480287Z",
     "iopub.status.busy": "2023-09-09T16:25:33.479870Z",
     "iopub.status.idle": "2023-09-09T16:25:33.844008Z",
     "shell.execute_reply": "2023-09-09T16:25:33.843222Z"
    },
    "papermill": {
     "duration": 0.389379,
     "end_time": "2023-09-09T16:25:33.846139",
     "exception": false,
     "start_time": "2023-09-09T16:25:33.456760",
     "status": "completed"
    },
    "tags": []
   },
   "outputs": [
    {
     "name": "stdout",
     "output_type": "stream",
     "text": [
      "Decision Tree Classification Score is: 0.9574132492113565\n"
     ]
    },
    {
     "data": {
      "image/png": "[encoded data removed]",
      "text/plain": [
       "<Figure size 500x500 with 2 Axes>"
      ]
     },
     "metadata": {},
     "output_type": "display_data"
    }
   ],
   "source": [
    "from sklearn.tree import DecisionTreeClassifier \n",
    "dec_tree = DecisionTreeClassifier() \n",
    "\n",
    "dec_tree.fit(x_train, y_train)#fitting\n",
    "print(\"Decision Tree Classification Score is: {}\".format(dec_tree.score(x_test,y_test)))\n",
    "\n",
    "\n",
    "method_names.append(\"Decision Tree\")\n",
    "method_scores.append(dec_tree.score(x_test,y_test))\n",
    "\n",
    "#confision matrix\n",
    "y_pred = dec_tree.predict(x_test) \n",
    "conf_mat = confusion_matrix(y_test,y_pred)\n",
    "\n",
    "#visualization confusion matrix\n",
    "f,ax=plt.subplots(figsize=(5,5))\n",
    "sns.heatmap(conf_mat,annot=True, linewidths=0.5,linecolor=\"red\", fmt=\".0f\",ax=ax)\n",
    "plt.xlabel(\"Predicted Values\")\n",
    "plt.ylabel(\"True Values\")\n",
    "plt.show()\n"
   ]
  },
  {
   "cell_type": "code",
   "execution_count": 25,
   "id": "0e68e757",
   "metadata": {
    "execution": {
     "iopub.execute_input": "2023-09-09T16:25:33.892664Z",
     "iopub.status.busy": "2023-09-09T16:25:33.892041Z",
     "iopub.status.idle": "2023-09-09T16:25:34.216969Z",
     "shell.execute_reply": "2023-09-09T16:25:34.216108Z"
    },
    "papermill": {
     "duration": 0.351017,
     "end_time": "2023-09-09T16:25:34.219068",
     "exception": false,
     "start_time": "2023-09-09T16:25:33.868051",
     "status": "completed"
    },
    "tags": []
   },
   "outputs": [
    {
     "name": "stdout",
     "output_type": "stream",
     "text": [
      "Decision Tree Classification Score is: 0.9684542586750788\n"
     ]
    },
    {
     "data": {
      "image/png": "[encoded data removed]",
      "text/plain": [
       "<Figure size 500x500 with 2 Axes>"
      ]
     },
     "metadata": {},
     "output_type": "display_data"
    }
   ],
   "source": [
    "from sklearn.tree import DecisionTreeClassifier \n",
    "dec_tree = DecisionTreeClassifier(criterion=\"gini\",splitter=\"best\",max_depth=9,min_samples_split=8) \n",
    "\n",
    "dec_tree.fit(x_train, y_train)#fitting\n",
    "print(\"Decision Tree Classification Score is: {}\".format(dec_tree.score(x_test,y_test)))\n",
    "\n",
    "\n",
    "method_names.append(\"Decision Tree\")\n",
    "method_scores.append(dec_tree.score(x_test,y_test))\n",
    "\n",
    "#confision matrix\n",
    "y_pred = dec_tree.predict(x_test) \n",
    "conf_mat = confusion_matrix(y_test,y_pred)\n",
    "\n",
    "#visualization confusion matrix\n",
    "f,ax=plt.subplots(figsize=(5,5))\n",
    "sns.heatmap(conf_mat,annot=True, linewidths=0.5,linecolor=\"red\", fmt=\".0f\",ax=ax)\n",
    "plt.xlabel(\"Predicted Values\")\n",
    "plt.ylabel(\"True Values\")\n",
    "plt.show()\n"
   ]
  },
  {
   "cell_type": "markdown",
   "id": "cf9494ce",
   "metadata": {
    "papermill": {
     "duration": 0.021811,
     "end_time": "2023-09-09T16:25:34.263385",
     "exception": false,
     "start_time": "2023-09-09T16:25:34.241574",
     "status": "completed"
    },
    "tags": []
   },
   "source": [
    "# Random Forest Classifier"
   ]
  },
  {
   "cell_type": "code",
   "execution_count": 26,
   "id": "718fb8a1",
   "metadata": {
    "execution": {
     "iopub.execute_input": "2023-09-09T16:25:34.310484Z",
     "iopub.status.busy": "2023-09-09T16:25:34.309890Z",
     "iopub.status.idle": "2023-09-09T16:25:35.469703Z",
     "shell.execute_reply": "2023-09-09T16:25:35.468655Z"
    },
    "papermill": {
     "duration": 1.186586,
     "end_time": "2023-09-09T16:25:35.472161",
     "exception": false,
     "start_time": "2023-09-09T16:25:34.285575",
     "status": "completed"
    },
    "tags": []
   },
   "outputs": [
    {
     "name": "stdout",
     "output_type": "stream",
     "text": [
      "Random Forest Classification Score is: 0.9842271293375394\n"
     ]
    },
    {
     "data": {
      "image/png": "[encoded data removed]",
      "text/plain": [
       "<Figure size 500x500 with 2 Axes>"
      ]
     },
     "metadata": {},
     "output_type": "display_data"
    }
   ],
   "source": [
    "from sklearn.ensemble import RandomForestClassifier \n",
    "rand_forest = RandomForestClassifier(n_estimators=100,random_state=42)\n",
    "\n",
    "rand_forest.fit(x_train, y_train)#fitting\n",
    "print(\"Random Forest Classification Score is: {}\".format(rand_forest.score(x_test,y_test)))\n",
    "\n",
    "\n",
    "method_names.append(\"Random Forest\")\n",
    "method_scores.append(rand_forest.score(x_test,y_test))\n",
    "\n",
    "#confision matrix\n",
    "y_pred = rand_forest.predict(x_test) \n",
    "conf_mat = confusion_matrix(y_test,y_pred)\n",
    "\n",
    "#visualization confusion matrix\n",
    "f,ax=plt.subplots(figsize=(5,5))\n",
    "sns.heatmap(conf_mat,annot=True, linewidths=0.5,linecolor=\"red\", fmt=\".0f\",ax=ax)\n",
    "plt.xlabel(\"Predicted Values\")\n",
    "plt.ylabel(\"True Values\")\n",
    "plt.show()\n"
   ]
  },
  {
   "cell_type": "code",
   "execution_count": 27,
   "id": "2530dca2",
   "metadata": {
    "execution": {
     "iopub.execute_input": "2023-09-09T16:25:35.521712Z",
     "iopub.status.busy": "2023-09-09T16:25:35.520337Z",
     "iopub.status.idle": "2023-09-09T16:25:36.585817Z",
     "shell.execute_reply": "2023-09-09T16:25:36.585018Z"
    },
    "papermill": {
     "duration": 1.092536,
     "end_time": "2023-09-09T16:25:36.587960",
     "exception": false,
     "start_time": "2023-09-09T16:25:35.495424",
     "status": "completed"
    },
    "tags": []
   },
   "outputs": [
    {
     "name": "stdout",
     "output_type": "stream",
     "text": [
      "Random Forest Classification Score is: 0.9858044164037855\n"
     ]
    },
    {
     "data": {
      "image/png": "[encoded data removed]",
      "text/plain": [
       "<Figure size 500x500 with 2 Axes>"
      ]
     },
     "metadata": {},
     "output_type": "display_data"
    }
   ],
   "source": [
    "from sklearn.ensemble import RandomForestClassifier \n",
    "rand_forest = RandomForestClassifier(n_estimators=100,random_state=42,max_depth=12,min_samples_split=2,criterion='gini', min_samples_leaf=1, verbose=0)\n",
    "\n",
    "rand_forest.fit(x_train, y_train)#fitting\n",
    "print(\"Random Forest Classification Score is: {}\".format(rand_forest.score(x_test,y_test)))\n",
    "\n",
    "\n",
    "method_names.append(\"Random Forest\")\n",
    "method_scores.append(rand_forest.score(x_test,y_test))\n",
    "\n",
    "#confision matrix\n",
    "y_pred = rand_forest.predict(x_test) \n",
    "conf_mat = confusion_matrix(y_test,y_pred)\n",
    "\n",
    "#visualization confusion matrix\n",
    "f,ax=plt.subplots(figsize=(5,5))\n",
    "sns.heatmap(conf_mat,annot=True, linewidths=0.5,linecolor=\"red\", fmt=\".0f\",ax=ax)\n",
    "plt.xlabel(\"Predicted Values\")\n",
    "plt.ylabel(\"True Values\")\n",
    "plt.show()\n"
   ]
  },
  {
   "cell_type": "markdown",
   "id": "7de2b512",
   "metadata": {
    "papermill": {
     "duration": 0.023844,
     "end_time": "2023-09-09T16:25:36.636450",
     "exception": false,
     "start_time": "2023-09-09T16:25:36.612606",
     "status": "completed"
    },
    "tags": []
   },
   "source": [
    "# Gradient Boosting Classification"
   ]
  },
  {
   "cell_type": "code",
   "execution_count": 28,
   "id": "c92a1b9b",
   "metadata": {
    "execution": {
     "iopub.execute_input": "2023-09-09T16:25:36.686438Z",
     "iopub.status.busy": "2023-09-09T16:25:36.685819Z",
     "iopub.status.idle": "2023-09-09T16:25:38.649753Z",
     "shell.execute_reply": "2023-09-09T16:25:38.648455Z"
    },
    "papermill": {
     "duration": 1.991745,
     "end_time": "2023-09-09T16:25:38.652287",
     "exception": false,
     "start_time": "2023-09-09T16:25:36.660542",
     "status": "completed"
    },
    "tags": []
   },
   "outputs": [
    {
     "name": "stdout",
     "output_type": "stream",
     "text": [
      "Gradient Forest Classification Score is: 0.9794952681388013\n"
     ]
    },
    {
     "data": {
      "image/png": "[encoded data removed]",
      "text/plain": [
       "<Figure size 500x500 with 2 Axes>"
      ]
     },
     "metadata": {},
     "output_type": "display_data"
    }
   ],
   "source": [
    "from sklearn.ensemble import GradientBoostingClassifier \n",
    "gbc = GradientBoostingClassifier (n_estimators=100,learning_rate=0.05)\n",
    "\n",
    "gbc.fit(x_train, y_train)#fitting\n",
    "print(\"Gradient Forest Classification Score is: {}\".format(gbc.score(x_test,y_test)))\n",
    "\n",
    "\n",
    "method_names.append(\"Gradient Forest\")\n",
    "method_scores.append(gbc.score(x_test,y_test))\n",
    "\n",
    "#confision matrix\n",
    "y_pred = gbc.predict(x_test) \n",
    "conf_mat = confusion_matrix(y_test,y_pred)\n",
    "\n",
    "#visualization confusion matrix\n",
    "f,ax=plt.subplots(figsize=(5,5))\n",
    "sns.heatmap(conf_mat,annot=True, linewidths=0.5,linecolor=\"red\", fmt=\".0f\",ax=ax)\n",
    "plt.xlabel(\"Predicted Values\")\n",
    "plt.ylabel(\"True Values\")\n",
    "plt.show()\n"
   ]
  },
  {
   "cell_type": "code",
   "execution_count": 29,
   "id": "8a220d0f",
   "metadata": {
    "execution": {
     "iopub.execute_input": "2023-09-09T16:25:38.702780Z",
     "iopub.status.busy": "2023-09-09T16:25:38.702397Z",
     "iopub.status.idle": "2023-09-09T16:25:40.676915Z",
     "shell.execute_reply": "2023-09-09T16:25:40.675527Z"
    },
    "papermill": {
     "duration": 2.002731,
     "end_time": "2023-09-09T16:25:40.679385",
     "exception": false,
     "start_time": "2023-09-09T16:25:38.676654",
     "status": "completed"
    },
    "tags": []
   },
   "outputs": [
    {
     "name": "stdout",
     "output_type": "stream",
     "text": [
      "Gradient Forest Classification Score is: 0.9810725552050473\n"
     ]
    },
    {
     "data": {
      "image/png": "[encoded data removed]",
      "text/plain": [
       "<Figure size 500x500 with 2 Axes>"
      ]
     },
     "metadata": {},
     "output_type": "display_data"
    }
   ],
   "source": [
    "from sklearn.ensemble import GradientBoostingClassifier \n",
    "gbc = GradientBoostingClassifier (n_estimators=100,learning_rate=0.1, min_samples_split=2,max_depth=3, subsample=1.0)\n",
    "\n",
    "gbc.fit(x_train, y_train)#fitting\n",
    "print(\"Gradient Forest Classification Score is: {}\".format(gbc.score(x_test,y_test)))\n",
    "\n",
    "\n",
    "method_names.append(\"Gradient Forest\")\n",
    "method_scores.append(gbc.score(x_test,y_test))\n",
    "\n",
    "#confision matrix\n",
    "y_pred = gbc.predict(x_test) \n",
    "conf_mat = confusion_matrix(y_test,y_pred)\n",
    "\n",
    "#visualization confusion matrix\n",
    "f,ax=plt.subplots(figsize=(5,5))\n",
    "sns.heatmap(conf_mat,annot=True, linewidths=0.5,linecolor=\"red\", fmt=\".0f\",ax=ax)\n",
    "plt.xlabel(\"Predicted Values\")\n",
    "plt.ylabel(\"True Values\")\n",
    "plt.show()\n"
   ]
  },
  {
   "cell_type": "code",
   "execution_count": 30,
   "id": "88f8c657",
   "metadata": {
    "execution": {
     "iopub.execute_input": "2023-09-09T16:25:40.736433Z",
     "iopub.status.busy": "2023-09-09T16:25:40.735483Z",
     "iopub.status.idle": "2023-09-09T16:28:17.318974Z",
     "shell.execute_reply": "2023-09-09T16:28:17.317879Z"
    },
    "papermill": {
     "duration": 156.612165,
     "end_time": "2023-09-09T16:28:17.321538",
     "exception": false,
     "start_time": "2023-09-09T16:25:40.709373",
     "status": "completed"
    },
    "tags": []
   },
   "outputs": [
    {
     "name": "stdout",
     "output_type": "stream",
     "text": [
      "Best Parameters: {'learning_rate': 0.1, 'n_estimators': 300}\n",
      "Train Scores: 0.9790835040192165\n",
      "Best Parameters: {'learning_rate': 0.1, 'n_estimators': 300}\n",
      "Test Scores: 0.9794952681388013\n",
      "Gradient Forest CV Classification Score: 0.9794952681388013\n"
     ]
    },
    {
     "data": {
      "image/png": "[encoded data removed]",
      "text/plain": [
       "<Figure size 500x500 with 2 Axes>"
      ]
     },
     "metadata": {},
     "output_type": "display_data"
    }
   ],
   "source": [
    "from sklearn.model_selection import GridSearchCV\n",
    "grid = {\n",
    "    'learning_rate':[0.01,0.05,0.1],\n",
    "    'n_estimators':np.arange(100,500,100),\n",
    "}\n",
    "gb = GradientBoostingClassifier()\n",
    "gb_cv = GridSearchCV(gb,grid,cv = 4)\n",
    "gb_cv.fit(x_train, y_train)\n",
    "print(\"Best Parameters:\",gb_cv.best_params_)\n",
    "print(\"Train Scores:\",gb_cv.best_score_)\n",
    "print(\"Best Parameters:\",gb_cv.best_params_)\n",
    "print(\"Test Scores:\",gb_cv.score(x_test,y_test))\n",
    "print(\"Gradient Forest CV Classification Score:\",gb_cv.score(x_test,y_test))\n",
    "method_names.append(\"Gradient Forest CV\")\n",
    "method_scores.append(gb_cv.score(x_test,y_test))\n",
    "\n",
    "#Confusion matrix\n",
    "y_pred = gb_cv.predict(x_test)\n",
    "conf_mat = confusion_matrix(y_test,y_pred)\n",
    "\n",
    "#visualization confusion matrix\n",
    "f,ax=plt.subplots(figsize=(5,5))\n",
    "sns.heatmap(conf_mat,annot=True, linewidths=0.5,linecolor=\"red\", fmt=\".0f\",ax=ax)\n",
    "plt.xlabel(\"Predicted Values\")\n",
    "plt.ylabel(\"True Values\")\n",
    "plt.show()\n"
   ]
  },
  {
   "cell_type": "markdown",
   "id": "00f7cdb5",
   "metadata": {
    "papermill": {
     "duration": 0.025598,
     "end_time": "2023-09-09T16:28:17.372709",
     "exception": false,
     "start_time": "2023-09-09T16:28:17.347111",
     "status": "completed"
    },
    "tags": []
   },
   "source": [
    "# Ada Boost Classifier"
   ]
  },
  {
   "cell_type": "code",
   "execution_count": 31,
   "id": "e8416293",
   "metadata": {
    "execution": {
     "iopub.execute_input": "2023-09-09T16:28:17.424939Z",
     "iopub.status.busy": "2023-09-09T16:28:17.424140Z",
     "iopub.status.idle": "2023-09-09T16:30:53.591694Z",
     "shell.execute_reply": "2023-09-09T16:30:53.590653Z"
    },
    "papermill": {
     "duration": 156.196804,
     "end_time": "2023-09-09T16:30:53.594056",
     "exception": false,
     "start_time": "2023-09-09T16:28:17.397252",
     "status": "completed"
    },
    "tags": []
   },
   "outputs": [
    {
     "name": "stdout",
     "output_type": "stream",
     "text": [
      "Ada Boost Classifier : {'learning_rate': 0.1, 'n_estimators': 300}\n",
      "Train Scores: 0.9790835040192165\n",
      "Best Parameters: {'learning_rate': 0.1, 'n_estimators': 300}\n",
      "Test Scores: 0.9794952681388013\n",
      "Gradient Forest CV Classification Score: 0.9794952681388013\n"
     ]
    },
    {
     "data": {
      "image/png": "[encoded data removed]",
      "text/plain": [
       "<Figure size 500x500 with 2 Axes>"
      ]
     },
     "metadata": {},
     "output_type": "display_data"
    }
   ],
   "source": [
    "from sklearn.ensemble import AdaBoostClassifier\n",
    "grid = {\n",
    "    'learning_rate':[0.01,0.05,0.1],\n",
    "    'n_estimators':np.arange(100,500,100),\n",
    "}\n",
    "ad =  AdaBoostClassifier()\n",
    "ad_cv = GridSearchCV(gb,grid,cv = 4)\n",
    "ad_cv.fit(x_train, y_train)\n",
    "print(\"Ada Boost Classifier :\",gb_cv.best_params_)\n",
    "print(\"Train Scores:\",ad_cv.best_score_)\n",
    "print(\"Best Parameters:\",ad_cv.best_params_)\n",
    "print(\"Test Scores:\",ad_cv.score(x_test,y_test))\n",
    "print(\"Gradient Forest CV Classification Score:\",ad_cv.score(x_test,y_test))\n",
    "method_names.append(\"Ada Boost Classifier\")\n",
    "method_scores.append(ad_cv.score(x_test,y_test))\n",
    "\n",
    "#Confusion matrix\n",
    "y_pred = ad_cv.predict(x_test)\n",
    "conf_mat = confusion_matrix(y_test,y_pred)\n",
    "\n",
    "#visualization confusion matrix\n",
    "f,ax=plt.subplots(figsize=(5,5))\n",
    "sns.heatmap(conf_mat,annot=True, linewidths=0.5,linecolor=\"red\", fmt=\".0f\",ax=ax)\n",
    "plt.xlabel(\"Predicted Values\")\n",
    "plt.ylabel(\"True Values\")\n",
    "plt.show()\n"
   ]
  },
  {
   "cell_type": "code",
   "execution_count": null,
   "id": "21ceda92",
   "metadata": {
    "papermill": {
     "duration": 0.025412,
     "end_time": "2023-09-09T16:30:53.644970",
     "exception": false,
     "start_time": "2023-09-09T16:30:53.619558",
     "status": "completed"
    },
    "tags": []
   },
   "outputs": [],
   "source": []
  }
 ],
 "kernelspec": {
  "display_name": "Python 3",
  "language": "python",
  "name": "python3"
 },
 "language_info": {
  "codemirror_mode": {
   "name": "ipython",
   "version": 3
  },
  "file_extension": ".py",
  "mimetype": "text/x-python",
  "name": "python",
  "nbconvert_exporter": "python",
  "pygments_lexer": "ipython3",
  "version": "3.6.4"
 },
 "metadata": {
  "kernelspec": {
   "display_name": "Python 3",
   "language": "python",
   "name": "python3"
  },
  "language_info": {
   "codemirror_mode": {
    "name": "ipython",
    "version": 3
   },
   "file_extension": ".py",
   "mimetype": "text/x-python",
   "name": "python",
   "nbconvert_exporter": "python",
   "pygments_lexer": "ipython3",
   "version": "3.10.12"
  },
  "papermill": {
   "default_parameters": {},
   "duration": 332.501246,
   "end_time": "2023-09-09T16:30:54.191965",
   "environment_variables": {},
   "exception": null,
   "input_path": "__notebook__.ipynb",
   "output_path": "__notebook__.ipynb",
   "parameters": {},
   "start_time": "2023-09-09T16:25:21.690719",
   "version": "2.4.0"
  }
 },
 "nbformat": 4,
 "nbformat_minor": 5
}
